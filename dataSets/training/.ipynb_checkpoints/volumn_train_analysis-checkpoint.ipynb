{
 "cells": [
  {
   "cell_type": "code",
   "execution_count": 108,
   "metadata": {
    "collapsed": false
   },
   "outputs": [],
   "source": [
    "import pandas as pd\n",
    "import numpy as np\n",
    "import seaborn as sns\n",
    "import warnings\n",
    "import matplotlib.pyplot as plt\n",
    "warnings.filterwarnings('ignore')\n",
    "%matplotlib inline"
   ]
  },
  {
   "cell_type": "code",
   "execution_count": 174,
   "metadata": {
    "collapsed": false,
    "scrolled": true
   },
   "outputs": [
    {
     "data": {
      "text/html": [
       "<div>\n",
       "<table border=\"1\" class=\"dataframe\">\n",
       "  <thead>\n",
       "    <tr style=\"text-align: right;\">\n",
       "      <th></th>\n",
       "      <th>time</th>\n",
       "      <th>tollgate_id</th>\n",
       "      <th>direction</th>\n",
       "      <th>vehicle_model</th>\n",
       "      <th>has_etc</th>\n",
       "      <th>vehicle_type</th>\n",
       "    </tr>\n",
       "  </thead>\n",
       "  <tbody>\n",
       "    <tr>\n",
       "      <th>0</th>\n",
       "      <td>2016-09-19 23:09:25</td>\n",
       "      <td>2</td>\n",
       "      <td>0</td>\n",
       "      <td>1</td>\n",
       "      <td>0</td>\n",
       "      <td>NaN</td>\n",
       "    </tr>\n",
       "    <tr>\n",
       "      <th>1</th>\n",
       "      <td>2016-09-19 23:11:53</td>\n",
       "      <td>2</td>\n",
       "      <td>0</td>\n",
       "      <td>1</td>\n",
       "      <td>0</td>\n",
       "      <td>NaN</td>\n",
       "    </tr>\n",
       "    <tr>\n",
       "      <th>2</th>\n",
       "      <td>2016-09-19 23:13:54</td>\n",
       "      <td>2</td>\n",
       "      <td>0</td>\n",
       "      <td>1</td>\n",
       "      <td>0</td>\n",
       "      <td>NaN</td>\n",
       "    </tr>\n",
       "    <tr>\n",
       "      <th>3</th>\n",
       "      <td>2016-09-19 23:17:48</td>\n",
       "      <td>1</td>\n",
       "      <td>0</td>\n",
       "      <td>1</td>\n",
       "      <td>1</td>\n",
       "      <td>NaN</td>\n",
       "    </tr>\n",
       "    <tr>\n",
       "      <th>4</th>\n",
       "      <td>2016-09-19 23:16:07</td>\n",
       "      <td>2</td>\n",
       "      <td>0</td>\n",
       "      <td>1</td>\n",
       "      <td>0</td>\n",
       "      <td>NaN</td>\n",
       "    </tr>\n",
       "  </tbody>\n",
       "</table>\n",
       "</div>"
      ],
      "text/plain": [
       "                  time  tollgate_id  direction  vehicle_model  has_etc  \\\n",
       "0  2016-09-19 23:09:25            2          0              1        0   \n",
       "1  2016-09-19 23:11:53            2          0              1        0   \n",
       "2  2016-09-19 23:13:54            2          0              1        0   \n",
       "3  2016-09-19 23:17:48            1          0              1        1   \n",
       "4  2016-09-19 23:16:07            2          0              1        0   \n",
       "\n",
       "   vehicle_type  \n",
       "0           NaN  \n",
       "1           NaN  \n",
       "2           NaN  \n",
       "3           NaN  \n",
       "4           NaN  "
      ]
     },
     "execution_count": 174,
     "metadata": {},
     "output_type": "execute_result"
    }
   ],
   "source": [
    "# description of the feature:\n",
    "# Traffic Volume through the Tollgates\n",
    "# time           datatime        the time when a vehicle passes the tollgate\n",
    "# tollgate_id    string          ID of the tollgate\n",
    "# direction      string           0:entry, 1:exit\n",
    "# vehicle_model  int             this number ranges from 0 to 7, which indicates the capacity of the vehicle(bigger the higher)\n",
    "# has_etc        string          does the vehicle use ETC (Electronic Toll Collection) device? 0: No, 1: Yes\n",
    "# vehicle_type   string          vehicle type: 0-passenger vehicle, 1-cargo vehicle\n",
    "volume_df = pd.read_csv(\"volume(table 6)_training.csv\")\n",
    "# volume_df2 = pd.read_csv(\"../testing_phase1/volume(table 6)_test1.csv\")\n",
    "# volume_df = volume_df.append(volume_df2)\n",
    "volume_df.head()"
   ]
  },
  {
   "cell_type": "code",
   "execution_count": 175,
   "metadata": {
    "collapsed": false,
    "scrolled": true
   },
   "outputs": [
    {
     "name": "stdout",
     "output_type": "stream",
     "text": [
      "<class 'pandas.core.frame.DataFrame'>\n",
      "RangeIndex: 543699 entries, 0 to 543698\n",
      "Data columns (total 6 columns):\n",
      "time             543699 non-null object\n",
      "tollgate_id      543699 non-null int64\n",
      "direction        543699 non-null int64\n",
      "vehicle_model    543699 non-null int64\n",
      "has_etc          543699 non-null int64\n",
      "vehicle_type     212710 non-null float64\n",
      "dtypes: float64(1), int64(4), object(1)\n",
      "memory usage: 24.9+ MB\n",
      "None\n"
     ]
    },
    {
     "data": {
      "text/html": [
       "<div>\n",
       "<table border=\"1\" class=\"dataframe\">\n",
       "  <thead>\n",
       "    <tr style=\"text-align: right;\">\n",
       "      <th></th>\n",
       "      <th>tollgate_id</th>\n",
       "      <th>direction</th>\n",
       "      <th>vehicle_model</th>\n",
       "      <th>has_etc</th>\n",
       "      <th>vehicle_type</th>\n",
       "    </tr>\n",
       "  </thead>\n",
       "  <tbody>\n",
       "    <tr>\n",
       "      <th>count</th>\n",
       "      <td>543699.000000</td>\n",
       "      <td>543699.000000</td>\n",
       "      <td>543699.000000</td>\n",
       "      <td>543699.000000</td>\n",
       "      <td>212710.00000</td>\n",
       "    </tr>\n",
       "    <tr>\n",
       "      <th>mean</th>\n",
       "      <td>2.086138</td>\n",
       "      <td>0.391227</td>\n",
       "      <td>1.089689</td>\n",
       "      <td>0.221420</td>\n",
       "      <td>0.22597</td>\n",
       "    </tr>\n",
       "    <tr>\n",
       "      <th>std</th>\n",
       "      <td>0.925612</td>\n",
       "      <td>0.488026</td>\n",
       "      <td>0.838314</td>\n",
       "      <td>0.415203</td>\n",
       "      <td>0.41822</td>\n",
       "    </tr>\n",
       "    <tr>\n",
       "      <th>min</th>\n",
       "      <td>1.000000</td>\n",
       "      <td>0.000000</td>\n",
       "      <td>0.000000</td>\n",
       "      <td>0.000000</td>\n",
       "      <td>0.00000</td>\n",
       "    </tr>\n",
       "    <tr>\n",
       "      <th>25%</th>\n",
       "      <td>1.000000</td>\n",
       "      <td>0.000000</td>\n",
       "      <td>1.000000</td>\n",
       "      <td>0.000000</td>\n",
       "      <td>0.00000</td>\n",
       "    </tr>\n",
       "    <tr>\n",
       "      <th>50%</th>\n",
       "      <td>2.000000</td>\n",
       "      <td>0.000000</td>\n",
       "      <td>1.000000</td>\n",
       "      <td>0.000000</td>\n",
       "      <td>0.00000</td>\n",
       "    </tr>\n",
       "    <tr>\n",
       "      <th>75%</th>\n",
       "      <td>3.000000</td>\n",
       "      <td>1.000000</td>\n",
       "      <td>1.000000</td>\n",
       "      <td>0.000000</td>\n",
       "      <td>0.00000</td>\n",
       "    </tr>\n",
       "    <tr>\n",
       "      <th>max</th>\n",
       "      <td>3.000000</td>\n",
       "      <td>1.000000</td>\n",
       "      <td>7.000000</td>\n",
       "      <td>1.000000</td>\n",
       "      <td>1.00000</td>\n",
       "    </tr>\n",
       "  </tbody>\n",
       "</table>\n",
       "</div>"
      ],
      "text/plain": [
       "         tollgate_id      direction  vehicle_model        has_etc  \\\n",
       "count  543699.000000  543699.000000  543699.000000  543699.000000   \n",
       "mean        2.086138       0.391227       1.089689       0.221420   \n",
       "std         0.925612       0.488026       0.838314       0.415203   \n",
       "min         1.000000       0.000000       0.000000       0.000000   \n",
       "25%         1.000000       0.000000       1.000000       0.000000   \n",
       "50%         2.000000       0.000000       1.000000       0.000000   \n",
       "75%         3.000000       1.000000       1.000000       0.000000   \n",
       "max         3.000000       1.000000       7.000000       1.000000   \n",
       "\n",
       "       vehicle_type  \n",
       "count  212710.00000  \n",
       "mean        0.22597  \n",
       "std         0.41822  \n",
       "min         0.00000  \n",
       "25%         0.00000  \n",
       "50%         0.00000  \n",
       "75%         0.00000  \n",
       "max         1.00000  "
      ]
     },
     "execution_count": 175,
     "metadata": {},
     "output_type": "execute_result"
    }
   ],
   "source": [
    "# 未处理数据的统计特征\n",
    "print volume_df.info()\n",
    "volume_df.describe()"
   ]
  },
  {
   "cell_type": "code",
   "execution_count": 176,
   "metadata": {
    "collapsed": false
   },
   "outputs": [
    {
     "data": {
      "text/plain": [
       "array([2, 1, 3], dtype=int64)"
      ]
     },
     "execution_count": 176,
     "metadata": {},
     "output_type": "execute_result"
    }
   ],
   "source": [
    "# 发现很多数字特征都是标签类，对所有标签类做替换，首先观察tollgate一共有多少种编号\n",
    "volume_df['tollgate_id'].unique()"
   ]
  },
  {
   "cell_type": "code",
   "execution_count": 178,
   "metadata": {
    "collapsed": false
   },
   "outputs": [
    {
     "data": {
      "text/html": [
       "<div>\n",
       "<table border=\"1\" class=\"dataframe\">\n",
       "  <thead>\n",
       "    <tr style=\"text-align: right;\">\n",
       "      <th></th>\n",
       "      <th>time</th>\n",
       "      <th>tollgate_id</th>\n",
       "      <th>direction</th>\n",
       "      <th>vehicle_model</th>\n",
       "      <th>has_etc</th>\n",
       "      <th>vehicle_type</th>\n",
       "    </tr>\n",
       "  </thead>\n",
       "  <tbody>\n",
       "    <tr>\n",
       "      <th>0</th>\n",
       "      <td>2016-09-19 23:09:25</td>\n",
       "      <td>2S</td>\n",
       "      <td>entry</td>\n",
       "      <td>1</td>\n",
       "      <td>No</td>\n",
       "      <td>NaN</td>\n",
       "    </tr>\n",
       "    <tr>\n",
       "      <th>1</th>\n",
       "      <td>2016-09-19 23:11:53</td>\n",
       "      <td>2S</td>\n",
       "      <td>entry</td>\n",
       "      <td>1</td>\n",
       "      <td>No</td>\n",
       "      <td>NaN</td>\n",
       "    </tr>\n",
       "    <tr>\n",
       "      <th>2</th>\n",
       "      <td>2016-09-19 23:13:54</td>\n",
       "      <td>2S</td>\n",
       "      <td>entry</td>\n",
       "      <td>1</td>\n",
       "      <td>No</td>\n",
       "      <td>NaN</td>\n",
       "    </tr>\n",
       "    <tr>\n",
       "      <th>3</th>\n",
       "      <td>2016-09-19 23:17:48</td>\n",
       "      <td>1S</td>\n",
       "      <td>entry</td>\n",
       "      <td>1</td>\n",
       "      <td>Yes</td>\n",
       "      <td>NaN</td>\n",
       "    </tr>\n",
       "    <tr>\n",
       "      <th>4</th>\n",
       "      <td>2016-09-19 23:16:07</td>\n",
       "      <td>2S</td>\n",
       "      <td>entry</td>\n",
       "      <td>1</td>\n",
       "      <td>No</td>\n",
       "      <td>NaN</td>\n",
       "    </tr>\n",
       "  </tbody>\n",
       "</table>\n",
       "</div>"
      ],
      "text/plain": [
       "                 time tollgate_id direction  vehicle_model has_etc  \\\n",
       "0 2016-09-19 23:09:25          2S     entry              1      No   \n",
       "1 2016-09-19 23:11:53          2S     entry              1      No   \n",
       "2 2016-09-19 23:13:54          2S     entry              1      No   \n",
       "3 2016-09-19 23:17:48          1S     entry              1     Yes   \n",
       "4 2016-09-19 23:16:07          2S     entry              1      No   \n",
       "\n",
       "  vehicle_type  \n",
       "0          NaN  \n",
       "1          NaN  \n",
       "2          NaN  \n",
       "3          NaN  \n",
       "4          NaN  "
      ]
     },
     "execution_count": 178,
     "metadata": {},
     "output_type": "execute_result"
    }
   ],
   "source": [
    "# 替换所有有标签含义的数字\n",
    "volume_df['tollgate_id'] = volume_df['tollgate_id'].replace({1:\"1S\", 2:\"2S\", 3:\"3S\"})\n",
    "volume_df['direction'] = volume_df['direction'].replace({0:\"entry\", 1:\"exit\"})\n",
    "volume_df['has_etc'] = volume_df['has_etc'].replace({0:\"No\", 1:\"Yes\"})\n",
    "volume_df['vehicle_type'] = volume_df['vehicle_type'].replace({0:\"passenger\", 1:\"carge\"})\n",
    "volume_df['time'] = volume_df['time'].apply(lambda x: pd.Timestamp(x))\n",
    "volume_df.head()"
   ]
  },
  {
   "cell_type": "code",
   "execution_count": 87,
   "metadata": {
    "collapsed": false
   },
   "outputs": [
    {
     "name": "stdout",
     "output_type": "stream",
     "text": [
      "that value of vehicle_model is when vehicle_type is nan\n",
      "                 time  tollgate_id  direction  has_etc  vehicle_type\n",
      "vehicle_model                                                       \n",
      "0               77410        77410      77410    77410             0\n",
      "1              209787       209787     209787   209787             0\n",
      "2               35705        35705      35705    35705             0\n",
      "3                2810         2810       2810     2810             0\n",
      "4                2724         2724       2724     2724             0\n",
      "5                2398         2398       2398     2398             0\n",
      "6                   6            6          6        6             0\n",
      "7                 149          149        149      149             0\n",
      "                              time  tollgate_id  direction  has_etc\n",
      "vehicle_type vehicle_model                                         \n",
      "carge        1               24973        24973      24973    24973\n",
      "             2               11663        11663      11663    11663\n",
      "             3                3673         3673       3673     3673\n",
      "             4                 578          578        578      578\n",
      "             5                6647         6647       6647     6647\n",
      "             6                  46           46         46       46\n",
      "             7                 486          486        486      486\n",
      "passenger    1              156862       156862     156862   156862\n",
      "             2                2716         2716       2716     2716\n",
      "             3                2230         2230       2230     2230\n",
      "             4                2836         2836       2836     2836\n"
     ]
    }
   ],
   "source": [
    "# vehicle_type的空值太多，思考如何填空值\n",
    "# 从统计量里可以大致估计\n",
    "# 承载量大于等于5的为货运汽车，所有承载量为0的车都类型不明\n",
    "# 承载量：1-默认客车，2-默认货车，3-默认货车，4-默认客车\n",
    "print \"that value of vehicle_model is when vehicle_type is nan\"\n",
    "print volume_df.loc[pd.isnull(volume_df['vehicle_type']), :].groupby(['vehicle_model']).count()\n",
    "print volume_df.dropna().groupby(['vehicle_type', 'vehicle_model']).count()"
   ]
  },
  {
   "cell_type": "code",
   "execution_count": 88,
   "metadata": {
    "collapsed": false,
    "scrolled": false
   },
   "outputs": [
    {
     "data": {
      "text/plain": [
       "time             0\n",
       "tollgate_id      0\n",
       "direction        0\n",
       "vehicle_model    0\n",
       "has_etc          0\n",
       "vehicle_type     0\n",
       "dtype: int64"
      ]
     },
     "execution_count": 88,
     "metadata": {},
     "output_type": "execute_result"
    }
   ],
   "source": [
    "# 承载量：1-默认客车，2-默认货车，3-默认货车，4-默认客车\n",
    "# 承载量大于等于5的为货运汽车，所有承载量为0的车都类型不明\n",
    "volume_df = volume_df.sort_values(by=\"vehicle_model\")\n",
    "vehicle_model0 = volume_df[volume_df['vehicle_model'] == 0].fillna(\"No\")\n",
    "vehicle_model1 = volume_df[volume_df['vehicle_model'] == 1].fillna(\"passenger\")\n",
    "vehicle_model2 = volume_df[volume_df['vehicle_model'] == 2].fillna(\"carge\")\n",
    "vehicle_model3 = volume_df[volume_df['vehicle_model'] == 3].fillna(\"carge\")\n",
    "vehicle_model4 = volume_df[volume_df['vehicle_model'] == 4].fillna(\"passenger\")\n",
    "vehicle_model5 = volume_df[volume_df['vehicle_model'] >= 5].fillna(\"carge\")\n",
    "volume_df = pd.concat([vehicle_model0, vehicle_model1, vehicle_model2, vehicle_model3, vehicle_model4, vehicle_model5])\n",
    "volume_df[volume_df.isnull()].count()"
   ]
  },
  {
   "cell_type": "code",
   "execution_count": 89,
   "metadata": {
    "collapsed": false
   },
   "outputs": [
    {
     "name": "stdout",
     "output_type": "stream",
     "text": [
      "<class 'pandas.core.frame.DataFrame'>\n",
      "Int64Index: 543699 entries, 146094 to 361835\n",
      "Data columns (total 6 columns):\n",
      "time             543699 non-null datetime64[ns]\n",
      "tollgate_id      543699 non-null object\n",
      "direction        543699 non-null object\n",
      "vehicle_model    543699 non-null int64\n",
      "has_etc          543699 non-null object\n",
      "vehicle_type     543699 non-null object\n",
      "dtypes: datetime64[ns](1), int64(1), object(4)\n",
      "memory usage: 29.0+ MB\n",
      "None\n"
     ]
    },
    {
     "data": {
      "text/html": [
       "<div>\n",
       "<table border=\"1\" class=\"dataframe\">\n",
       "  <thead>\n",
       "    <tr style=\"text-align: right;\">\n",
       "      <th></th>\n",
       "      <th>time</th>\n",
       "      <th>tollgate_id</th>\n",
       "      <th>direction</th>\n",
       "      <th>vehicle_model</th>\n",
       "      <th>has_etc</th>\n",
       "      <th>vehicle_type</th>\n",
       "    </tr>\n",
       "  </thead>\n",
       "  <tbody>\n",
       "    <tr>\n",
       "      <th>146094</th>\n",
       "      <td>2016-10-01 17:06:59</td>\n",
       "      <td>1S</td>\n",
       "      <td>entry</td>\n",
       "      <td>0</td>\n",
       "      <td>No</td>\n",
       "      <td>No</td>\n",
       "    </tr>\n",
       "    <tr>\n",
       "      <th>190268</th>\n",
       "      <td>2016-10-05 08:40:01</td>\n",
       "      <td>1S</td>\n",
       "      <td>entry</td>\n",
       "      <td>0</td>\n",
       "      <td>No</td>\n",
       "      <td>No</td>\n",
       "    </tr>\n",
       "    <tr>\n",
       "      <th>190269</th>\n",
       "      <td>2016-10-05 08:40:04</td>\n",
       "      <td>1S</td>\n",
       "      <td>entry</td>\n",
       "      <td>0</td>\n",
       "      <td>No</td>\n",
       "      <td>No</td>\n",
       "    </tr>\n",
       "    <tr>\n",
       "      <th>190270</th>\n",
       "      <td>2016-10-05 08:40:10</td>\n",
       "      <td>1S</td>\n",
       "      <td>entry</td>\n",
       "      <td>0</td>\n",
       "      <td>No</td>\n",
       "      <td>No</td>\n",
       "    </tr>\n",
       "    <tr>\n",
       "      <th>190272</th>\n",
       "      <td>2016-10-05 08:41:00</td>\n",
       "      <td>1S</td>\n",
       "      <td>entry</td>\n",
       "      <td>0</td>\n",
       "      <td>No</td>\n",
       "      <td>No</td>\n",
       "    </tr>\n",
       "  </tbody>\n",
       "</table>\n",
       "</div>"
      ],
      "text/plain": [
       "                      time tollgate_id direction  vehicle_model has_etc  \\\n",
       "146094 2016-10-01 17:06:59          1S     entry              0      No   \n",
       "190268 2016-10-05 08:40:01          1S     entry              0      No   \n",
       "190269 2016-10-05 08:40:04          1S     entry              0      No   \n",
       "190270 2016-10-05 08:40:10          1S     entry              0      No   \n",
       "190272 2016-10-05 08:41:00          1S     entry              0      No   \n",
       "\n",
       "       vehicle_type  \n",
       "146094           No  \n",
       "190268           No  \n",
       "190269           No  \n",
       "190270           No  \n",
       "190272           No  "
      ]
     },
     "execution_count": 89,
     "metadata": {},
     "output_type": "execute_result"
    }
   ],
   "source": [
    "print volume_df.info()\n",
    "volume_df.head()"
   ]
  },
  {
   "cell_type": "code",
   "execution_count": 90,
   "metadata": {
    "collapsed": false,
    "scrolled": true
   },
   "outputs": [
    {
     "data": {
      "text/html": [
       "<div>\n",
       "<table border=\"1\" class=\"dataframe\">\n",
       "  <thead>\n",
       "    <tr style=\"text-align: right;\">\n",
       "      <th></th>\n",
       "      <th></th>\n",
       "    </tr>\n",
       "    <tr>\n",
       "      <th>month</th>\n",
       "      <th>day</th>\n",
       "    </tr>\n",
       "  </thead>\n",
       "  <tbody>\n",
       "    <tr>\n",
       "      <th rowspan=\"12\" valign=\"top\">9</th>\n",
       "      <th>19</th>\n",
       "    </tr>\n",
       "    <tr>\n",
       "      <th>20</th>\n",
       "    </tr>\n",
       "    <tr>\n",
       "      <th>21</th>\n",
       "    </tr>\n",
       "    <tr>\n",
       "      <th>22</th>\n",
       "    </tr>\n",
       "    <tr>\n",
       "      <th>23</th>\n",
       "    </tr>\n",
       "    <tr>\n",
       "      <th>24</th>\n",
       "    </tr>\n",
       "    <tr>\n",
       "      <th>25</th>\n",
       "    </tr>\n",
       "    <tr>\n",
       "      <th>26</th>\n",
       "    </tr>\n",
       "    <tr>\n",
       "      <th>27</th>\n",
       "    </tr>\n",
       "    <tr>\n",
       "      <th>28</th>\n",
       "    </tr>\n",
       "    <tr>\n",
       "      <th>29</th>\n",
       "    </tr>\n",
       "    <tr>\n",
       "      <th>30</th>\n",
       "    </tr>\n",
       "    <tr>\n",
       "      <th rowspan=\"17\" valign=\"top\">10</th>\n",
       "      <th>1</th>\n",
       "    </tr>\n",
       "    <tr>\n",
       "      <th>2</th>\n",
       "    </tr>\n",
       "    <tr>\n",
       "      <th>3</th>\n",
       "    </tr>\n",
       "    <tr>\n",
       "      <th>4</th>\n",
       "    </tr>\n",
       "    <tr>\n",
       "      <th>5</th>\n",
       "    </tr>\n",
       "    <tr>\n",
       "      <th>6</th>\n",
       "    </tr>\n",
       "    <tr>\n",
       "      <th>7</th>\n",
       "    </tr>\n",
       "    <tr>\n",
       "      <th>8</th>\n",
       "    </tr>\n",
       "    <tr>\n",
       "      <th>9</th>\n",
       "    </tr>\n",
       "    <tr>\n",
       "      <th>10</th>\n",
       "    </tr>\n",
       "    <tr>\n",
       "      <th>11</th>\n",
       "    </tr>\n",
       "    <tr>\n",
       "      <th>12</th>\n",
       "    </tr>\n",
       "    <tr>\n",
       "      <th>13</th>\n",
       "    </tr>\n",
       "    <tr>\n",
       "      <th>14</th>\n",
       "    </tr>\n",
       "    <tr>\n",
       "      <th>15</th>\n",
       "    </tr>\n",
       "    <tr>\n",
       "      <th>16</th>\n",
       "    </tr>\n",
       "    <tr>\n",
       "      <th>17</th>\n",
       "    </tr>\n",
       "  </tbody>\n",
       "</table>\n",
       "</div>"
      ],
      "text/plain": [
       "Empty DataFrame\n",
       "Columns: []\n",
       "Index: [(9, 19), (9, 20), (9, 21), (9, 22), (9, 23), (9, 24), (9, 25), (9, 26), (9, 27), (9, 28), (9, 29), (9, 30), (10, 1), (10, 2), (10, 3), (10, 4), (10, 5), (10, 6), (10, 7), (10, 8), (10, 9), (10, 10), (10, 11), (10, 12), (10, 13), (10, 14), (10, 15), (10, 16), (10, 17)]"
      ]
     },
     "execution_count": 90,
     "metadata": {},
     "output_type": "execute_result"
    }
   ],
   "source": [
    "# 观察日期范围，发现日期跨度比想象中要长，重新阅读题目，之前理解题目错了\n",
    "# 训练集是已知9月19日至10月17日之间所有数据：从0点到24点\n",
    "# 预测集是10月18日至10月24日的其中两个时段：6点-8点，14点-16点\n",
    "# 需要预测10月18日至10月24日剩下两个时段：8点-10点，16点-18点\n",
    "volume_day = pd.DataFrame()\n",
    "volume_day['day'] = volume_df['time'].apply(lambda x: x.day)\n",
    "volume_day['month'] = volume_df['time'].apply(lambda x: x.month)\n",
    "volume_day.groupby(['month', 'day']).count()"
   ]
  },
  {
   "cell_type": "code",
   "execution_count": 188,
   "metadata": {
    "collapsed": false,
    "scrolled": true
   },
   "outputs": [
    {
     "name": "stdout",
     "output_type": "stream",
     "text": [
      "                     volume  hour  min  day  month\n",
      "time                                              \n",
      "2016-09-19 00:00:00     2.0     0    0   19      9\n",
      "2016-09-19 00:20:00     NaN     0   20   19      9\n",
      "2016-09-19 00:40:00     NaN     0   40   19      9\n",
      "2016-09-19 01:00:00     1.0     1    0   19      9\n",
      "2016-09-19 01:20:00     NaN     1   20   19      9\n"
     ]
    },
    {
     "data": {
      "image/png": "[encoded data removed]",
      "text/plain": [
       "<matplotlib.figure.Figure at 0x564d89e8>"
      ]
     },
     "metadata": {},
     "output_type": "display_data"
    },
    {
     "name": "stdout",
     "output_type": "stream",
     "text": [
      "mean of count :  82.3103448276\n",
      "max count :  141.0\n",
      "sqrt std :  45.26043956\n",
      "min count :  6.0\n"
     ]
    },
    {
     "data": {
      "image/png": "[encoded data removed]",
      "text/plain": [
       "<matplotlib.figure.Figure at 0x55fcc240>"
      ]
     },
     "metadata": {},
     "output_type": "display_data"
    }
   ],
   "source": [
    "# 观察每一天同一时间段内的车流量\n",
    "volume_time_period = pd.Series(data = 1, index=volume_df.loc[volume_df['tollgate_id']==\"2S\", :]['time'])\n",
    "volume_time_period = volume_time_period.resample(\"20T\").sum()\n",
    "volume_time_df = pd.DataFrame(index=volume_time_period.index)\n",
    "volume_time_df['volume'] = volume_time_period\n",
    "volume_time_df['hour'] = volume_time_period.index.hour\n",
    "volume_time_df['min'] = volume_time_period.index.minute\n",
    "volume_time_df['day'] = volume_time_period.index.day\n",
    "volume_time_df['month'] = volume_time_period.index.month\n",
    "# 展示进站口1每天6点-6点20分的车流量\n",
    "print volume_time_df.head()\n",
    "filter_df = (volume_time_df['hour'] == 8) & (volume_time_df['min'] == 40)\n",
    "volume_time_df[filter_df]['volume'].plot()\n",
    "plt.show()\n",
    "print \"mean of count : \", volume_time_df[filter_df]['volume'].mean()\n",
    "print \"max count : \", volume_time_df[filter_df]['volume'].max()\n",
    "print \"sqrt std : \", volume_time_df[filter_df]['volume'].std()\n",
    "print \"min count : \", volume_time_df[filter_df]['volume'].min()\n",
    "# 把时间段从6点到8点以20分钟为单位一直观察下去，发现，10月1日某些时段存在突变点，而且不存在以周为单位的周期性\n",
    "# 观察某一天的车流图\n",
    "filter_df = (volume_time_df['month'] == 10) & (volume_time_df['day'] == 1)\n",
    "volume_time_df[filter_df]['volume'].plot()\n",
    "plt.show()"
   ]
  },
  {
   "cell_type": "code",
   "execution_count": 189,
   "metadata": {
    "collapsed": false
   },
   "outputs": [
    {
     "name": "stdout",
     "output_type": "stream",
     "text": [
      "max in all account :  148.0\n"
     ]
    },
    {
     "data": {
      "text/plain": [
       "DatetimeIndex([], dtype='datetime64[ns]', name=u'time', freq='20T')"
      ]
     },
     "execution_count": 189,
     "metadata": {},
     "output_type": "execute_result"
    }
   ],
   "source": [
    "# 拿到20分钟的最大值，可以据此判断一个关口20分钟内的车流上限\n",
    "print \"max in all account : \", volume_time_df['volume'].max()\n",
    "# 最大流量是286，假设这个是1号关口20分钟的车流上限，输出车流在270以上的时间\n",
    "volume_time_df[volume_time_df['volume'] >= 250].index"
   ]
  },
  {
   "cell_type": "code",
   "execution_count": 193,
   "metadata": {
    "collapsed": false
   },
   "outputs": [
    {
     "data": {
      "text/html": [
       "<div>\n",
       "<table border=\"1\" class=\"dataframe\">\n",
       "  <thead>\n",
       "    <tr style=\"text-align: right;\">\n",
       "      <th></th>\n",
       "      <th>volume</th>\n",
       "      <th>hour</th>\n",
       "      <th>min</th>\n",
       "      <th>day</th>\n",
       "      <th>month</th>\n",
       "    </tr>\n",
       "    <tr>\n",
       "      <th>time</th>\n",
       "      <th></th>\n",
       "      <th></th>\n",
       "      <th></th>\n",
       "      <th></th>\n",
       "      <th></th>\n",
       "    </tr>\n",
       "  </thead>\n",
       "  <tbody>\n",
       "    <tr>\n",
       "      <th>2016-09-19 00:00:00</th>\n",
       "      <td>2.0</td>\n",
       "      <td>0</td>\n",
       "      <td>0</td>\n",
       "      <td>19</td>\n",
       "      <td>9</td>\n",
       "    </tr>\n",
       "    <tr>\n",
       "      <th>2016-09-19 00:20:00</th>\n",
       "      <td>0.0</td>\n",
       "      <td>0</td>\n",
       "      <td>20</td>\n",
       "      <td>19</td>\n",
       "      <td>9</td>\n",
       "    </tr>\n",
       "    <tr>\n",
       "      <th>2016-09-19 00:40:00</th>\n",
       "      <td>0.0</td>\n",
       "      <td>0</td>\n",
       "      <td>40</td>\n",
       "      <td>19</td>\n",
       "      <td>9</td>\n",
       "    </tr>\n",
       "    <tr>\n",
       "      <th>2016-09-19 01:00:00</th>\n",
       "      <td>1.0</td>\n",
       "      <td>1</td>\n",
       "      <td>0</td>\n",
       "      <td>19</td>\n",
       "      <td>9</td>\n",
       "    </tr>\n",
       "    <tr>\n",
       "      <th>2016-09-19 01:20:00</th>\n",
       "      <td>0.0</td>\n",
       "      <td>1</td>\n",
       "      <td>20</td>\n",
       "      <td>19</td>\n",
       "      <td>9</td>\n",
       "    </tr>\n",
       "  </tbody>\n",
       "</table>\n",
       "</div>"
      ],
      "text/plain": [
       "                     volume  hour  min  day  month\n",
       "time                                              \n",
       "2016-09-19 00:00:00     2.0     0    0   19      9\n",
       "2016-09-19 00:20:00     0.0     0   20   19      9\n",
       "2016-09-19 00:40:00     0.0     0   40   19      9\n",
       "2016-09-19 01:00:00     1.0     1    0   19      9\n",
       "2016-09-19 01:20:00     0.0     1   20   19      9"
      ]
     },
     "execution_count": 193,
     "metadata": {},
     "output_type": "execute_result"
    }
   ],
   "source": [
    "volume_time_df = volume_time_df.fillna(0)\n",
    "volume_time_df.head()"
   ]
  },
  {
   "cell_type": "code",
   "execution_count": 194,
   "metadata": {
    "collapsed": false,
    "scrolled": true
   },
   "outputs": [],
   "source": [
    "# 创建训练集，总的要求就是以前两个小时数据为训练集，用迭代式预测方法\n",
    "# 例如8点-10点的数据预测10点20,8点-10点20预测10点40……，每一次预测使用的都是独立的（可能模型一样）的模型\n",
    "# 现在开始构建训练集\n",
    "# 第一个训练集特征是所有两个小时（以20分钟为一个单位）的数据，因变量是该两小时之后20分钟的流量\n",
    "train_df1 = pd.DataFrame()\n",
    "for i in range(len(volume_time_df) - 6):\n",
    "    df_temp = volume_time_df.iloc[i:i + 7, 0].T\n",
    "    df_temp.index = range(7)\n",
    "    train_df1 = train_df1.append(df_temp)\n",
    "train1_X = train_df1.iloc[:, :6]\n",
    "train1_y = train_df1.iloc[:, 6]\n"
   ]
  },
  {
   "cell_type": "code",
   "execution_count": 183,
   "metadata": {
    "collapsed": false
   },
   "outputs": [],
   "source": [
    "# 第二个训练集，特征是所有两个小时又20分钟（以20分钟为一个单位）的数据，因变量是该两个小时之后20分钟的流量\n",
    "train_df2 = pd.DataFrame()\n",
    "for i in range(len(volume_time_df) - 7):\n",
    "    df_temp = volume_time_df.iloc[i:i + 8, 0].T\n",
    "    df_temp.index = range(8)\n",
    "    train_df2 = train_df2.append(df_temp)\n",
    "train2_X = train_df2.iloc[:, :7]\n",
    "train2_y = train_df2.iloc[:, 7]"
   ]
  },
  {
   "cell_type": "code",
   "execution_count": 184,
   "metadata": {
    "collapsed": true
   },
   "outputs": [],
   "source": [
    "# 第三个训练集，特征是所有两个小时又40分钟（以20分钟为一个单位）的数据，因变量是该两个小时之后40分钟的流量\n",
    "train_df3 = pd.DataFrame()\n",
    "for i in range(len(volume_time_df) - 8):\n",
    "    df_temp = volume_time_df.iloc[i:i + 9, 0].T\n",
    "    df_temp.index = range(9)\n",
    "    train_df3 = train_df3.append(df_temp)\n",
    "train3_X = train_df3.iloc[:, :8]\n",
    "train3_y = train_df3.iloc[:, 8]"
   ]
  },
  {
   "cell_type": "code",
   "execution_count": 185,
   "metadata": {
    "collapsed": false
   },
   "outputs": [],
   "source": [
    "# 第4个训练集，特征是所有三个小时（以20分钟为一个单位）的数据，因变量是该三个小时之后20分钟的流量\n",
    "train_df4 = pd.DataFrame()\n",
    "for i in range(len(volume_time_df) - 9):\n",
    "    df_temp = volume_time_df.iloc[i:i + 10, 0].T\n",
    "    df_temp.index = range(10)\n",
    "    train_df4 = train_df4.append(df_temp)\n",
    "train4_X = train_df4.iloc[:, :9]\n",
    "train4_y = train_df4.iloc[:, 9]"
   ]
  },
  {
   "cell_type": "code",
   "execution_count": 186,
   "metadata": {
    "collapsed": true
   },
   "outputs": [],
   "source": [
    "# 第5个训练集，特征是所有三个小时又20分（以20分钟为一个单位）的数据，因变量是该三个小时又20分之后20分钟的流量\n",
    "train_df5 = pd.DataFrame()\n",
    "for i in range(len(volume_time_df) - 10):\n",
    "    df_temp = volume_time_df.iloc[i:i + 11, 0].T\n",
    "    df_temp.index = range(11)\n",
    "    train_df5 = train_df5.append(df_temp)\n",
    "train5_X = train_df5.iloc[:, :10]\n",
    "train5_y = train_df5.iloc[:, 10]"
   ]
  },
  {
   "cell_type": "code",
   "execution_count": 187,
   "metadata": {
    "collapsed": false
   },
   "outputs": [],
   "source": [
    "# 第6个训练集，特征是所有三个小时又40分（以20分钟为一个单位）的数据，因变量是该三个小时又40分之后20分钟的流量\n",
    "train_df6 = pd.DataFrame()\n",
    "for i in range(len(volume_time_df) - 11):\n",
    "    df_temp = volume_time_df.iloc[i:i + 12, 0].T\n",
    "    df_temp.index = range(12)\n",
    "    train_df6 = train_df6.append(df_temp)\n",
    "train6_X = train_df6.iloc[:, :11]\n",
    "train6_y = train_df6.iloc[:, 11]"
   ]
  },
  {
   "cell_type": "code",
   "execution_count": null,
   "metadata": {
    "collapsed": true
   },
   "outputs": [],
   "source": []
  }
 ],
 "metadata": {
  "anaconda-cloud": {},
  "kernelspec": {
   "display_name": "Python [conda root]",
   "language": "python",
   "name": "conda-root-py"
  },
  "language_info": {
   "codemirror_mode": {
    "name": "ipython",
    "version": 2
   },
   "file_extension": ".py",
   "mimetype": "text/x-python",
   "name": "python",
   "nbconvert_exporter": "python",
   "pygments_lexer": "ipython2",
   "version": "2.7.12"
  }
 },
 "nbformat": 4,
 "nbformat_minor": 1
}
