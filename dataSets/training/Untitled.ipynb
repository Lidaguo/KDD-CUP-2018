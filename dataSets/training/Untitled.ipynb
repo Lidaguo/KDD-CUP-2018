{
 "cells": [
  {
   "cell_type": "code",
   "execution_count": 1,
   "metadata": {
    "collapsed": true
   },
   "outputs": [],
   "source": [
    "import pandas as pd"
   ]
  },
  {
   "cell_type": "code",
   "execution_count": 2,
   "metadata": {
    "collapsed": false
   },
   "outputs": [
    {
     "data": {
      "text/html": [
       "<div>\n",
       "<table border=\"1\" class=\"dataframe\">\n",
       "  <thead>\n",
       "    <tr style=\"text-align: right;\">\n",
       "      <th></th>\n",
       "      <th>Unnamed: 0</th>\n",
       "      <th>tollgate_id</th>\n",
       "      <th>time_window</th>\n",
       "      <th>direction</th>\n",
       "      <th>volume</th>\n",
       "    </tr>\n",
       "  </thead>\n",
       "  <tbody>\n",
       "    <tr>\n",
       "      <th>0</th>\n",
       "      <td>2016-10-18 06:00:00</td>\n",
       "      <td>1</td>\n",
       "      <td>[2016-10-18 08:00:00,2016-10-18 08:20:00)</td>\n",
       "      <td>0</td>\n",
       "      <td>47.59</td>\n",
       "    </tr>\n",
       "    <tr>\n",
       "      <th>1</th>\n",
       "      <td>2016-10-18 15:00:00</td>\n",
       "      <td>1</td>\n",
       "      <td>[2016-10-18 17:00:00,2016-10-18 17:20:00)</td>\n",
       "      <td>0</td>\n",
       "      <td>47.39</td>\n",
       "    </tr>\n",
       "    <tr>\n",
       "      <th>2</th>\n",
       "      <td>2016-10-19 06:00:00</td>\n",
       "      <td>1</td>\n",
       "      <td>[2016-10-19 08:00:00,2016-10-19 08:20:00)</td>\n",
       "      <td>0</td>\n",
       "      <td>47.01</td>\n",
       "    </tr>\n",
       "    <tr>\n",
       "      <th>3</th>\n",
       "      <td>2016-10-19 15:00:00</td>\n",
       "      <td>1</td>\n",
       "      <td>[2016-10-19 17:00:00,2016-10-19 17:20:00)</td>\n",
       "      <td>0</td>\n",
       "      <td>37.79</td>\n",
       "    </tr>\n",
       "    <tr>\n",
       "      <th>4</th>\n",
       "      <td>2016-10-20 06:00:00</td>\n",
       "      <td>1</td>\n",
       "      <td>[2016-10-20 08:00:00,2016-10-20 08:20:00)</td>\n",
       "      <td>0</td>\n",
       "      <td>36.49</td>\n",
       "    </tr>\n",
       "  </tbody>\n",
       "</table>\n",
       "</div>"
      ],
      "text/plain": [
       "            Unnamed: 0  tollgate_id  \\\n",
       "0  2016-10-18 06:00:00            1   \n",
       "1  2016-10-18 15:00:00            1   \n",
       "2  2016-10-19 06:00:00            1   \n",
       "3  2016-10-19 15:00:00            1   \n",
       "4  2016-10-20 06:00:00            1   \n",
       "\n",
       "                                 time_window  direction  volume  \n",
       "0  [2016-10-18 08:00:00,2016-10-18 08:20:00)          0   47.59  \n",
       "1  [2016-10-18 17:00:00,2016-10-18 17:20:00)          0   47.39  \n",
       "2  [2016-10-19 08:00:00,2016-10-19 08:20:00)          0   47.01  \n",
       "3  [2016-10-19 17:00:00,2016-10-19 17:20:00)          0   37.79  \n",
       "4  [2016-10-20 08:00:00,2016-10-20 08:20:00)          0   36.49  "
      ]
     },
     "execution_count": 2,
     "metadata": {},
     "output_type": "execute_result"
    }
   ],
   "source": [
    "result = pd.read_csv(\"volume_predict_stacking.csv\")\n",
    "result.head()"
   ]
  },
  {
   "cell_type": "code",
   "execution_count": 3,
   "metadata": {
    "collapsed": false
   },
   "outputs": [
    {
     "data": {
      "text/html": [
       "<div>\n",
       "<table border=\"1\" class=\"dataframe\">\n",
       "  <thead>\n",
       "    <tr style=\"text-align: right;\">\n",
       "      <th></th>\n",
       "      <th>tollgate_id</th>\n",
       "      <th>time_window</th>\n",
       "      <th>direction</th>\n",
       "      <th>volume</th>\n",
       "    </tr>\n",
       "  </thead>\n",
       "  <tbody>\n",
       "    <tr>\n",
       "      <th>0</th>\n",
       "      <td>1</td>\n",
       "      <td>[2016-10-18 08:00:00,2016-10-18 08:20:00)</td>\n",
       "      <td>0</td>\n",
       "      <td>47.59</td>\n",
       "    </tr>\n",
       "    <tr>\n",
       "      <th>1</th>\n",
       "      <td>1</td>\n",
       "      <td>[2016-10-18 17:00:00,2016-10-18 17:20:00)</td>\n",
       "      <td>0</td>\n",
       "      <td>47.39</td>\n",
       "    </tr>\n",
       "    <tr>\n",
       "      <th>2</th>\n",
       "      <td>1</td>\n",
       "      <td>[2016-10-19 08:00:00,2016-10-19 08:20:00)</td>\n",
       "      <td>0</td>\n",
       "      <td>47.01</td>\n",
       "    </tr>\n",
       "    <tr>\n",
       "      <th>3</th>\n",
       "      <td>1</td>\n",
       "      <td>[2016-10-19 17:00:00,2016-10-19 17:20:00)</td>\n",
       "      <td>0</td>\n",
       "      <td>37.79</td>\n",
       "    </tr>\n",
       "    <tr>\n",
       "      <th>4</th>\n",
       "      <td>1</td>\n",
       "      <td>[2016-10-20 08:00:00,2016-10-20 08:20:00)</td>\n",
       "      <td>0</td>\n",
       "      <td>36.49</td>\n",
       "    </tr>\n",
       "  </tbody>\n",
       "</table>\n",
       "</div>"
      ],
      "text/plain": [
       "   tollgate_id                                time_window  direction  volume\n",
       "0            1  [2016-10-18 08:00:00,2016-10-18 08:20:00)          0   47.59\n",
       "1            1  [2016-10-18 17:00:00,2016-10-18 17:20:00)          0   47.39\n",
       "2            1  [2016-10-19 08:00:00,2016-10-19 08:20:00)          0   47.01\n",
       "3            1  [2016-10-19 17:00:00,2016-10-19 17:20:00)          0   37.79\n",
       "4            1  [2016-10-20 08:00:00,2016-10-20 08:20:00)          0   36.49"
      ]
     },
     "execution_count": 3,
     "metadata": {},
     "output_type": "execute_result"
    }
   ],
   "source": [
    "del result[\"Unnamed: 0\"]\n",
    "result.head()"
   ]
  },
  {
   "cell_type": "code",
   "execution_count": 4,
   "metadata": {
    "collapsed": true
   },
   "outputs": [],
   "source": [
    "result.to_csv(\"volume_predict_stacking.csv\", encoding=\"utf8\", index=None)"
   ]
  },
  {
   "cell_type": "code",
   "execution_count": null,
   "metadata": {
    "collapsed": true
   },
   "outputs": [],
   "source": []
  }
 ],
 "metadata": {
  "anaconda-cloud": {},
  "kernelspec": {
   "display_name": "Python [conda root]",
   "language": "python",
   "name": "conda-root-py"
  },
  "language_info": {
   "codemirror_mode": {
    "name": "ipython",
    "version": 2
   },
   "file_extension": ".py",
   "mimetype": "text/x-python",
   "name": "python",
   "nbconvert_exporter": "python",
   "pygments_lexer": "ipython2",
   "version": "2.7.12"
  }
 },
 "nbformat": 4,
 "nbformat_minor": 1
}
