{
 "cells": [
  {
   "cell_type": "code",
   "execution_count": 24,
   "metadata": {
    "collapsed": true
   },
   "outputs": [],
   "source": [
    "import pandas as pd\n",
    "import numpy as np"
   ]
  },
  {
   "cell_type": "code",
   "execution_count": 25,
   "metadata": {
    "collapsed": false
   },
   "outputs": [
    {
     "data": {
      "text/html": [
       "<div>\n",
       "<table border=\"1\" class=\"dataframe\">\n",
       "  <thead>\n",
       "    <tr style=\"text-align: right;\">\n",
       "      <th></th>\n",
       "      <th>tollgate_id</th>\n",
       "      <th>time_window</th>\n",
       "      <th>direction</th>\n",
       "      <th>volume</th>\n",
       "    </tr>\n",
       "  </thead>\n",
       "  <tbody>\n",
       "    <tr>\n",
       "      <th>0</th>\n",
       "      <td>1</td>\n",
       "      <td>[2016-10-18 08:00:00,2016-10-18 08:20:00)</td>\n",
       "      <td>0</td>\n",
       "      <td>44.92</td>\n",
       "    </tr>\n",
       "    <tr>\n",
       "      <th>1</th>\n",
       "      <td>1</td>\n",
       "      <td>[2016-10-18 17:00:00,2016-10-18 17:20:00)</td>\n",
       "      <td>0</td>\n",
       "      <td>40.68</td>\n",
       "    </tr>\n",
       "    <tr>\n",
       "      <th>2</th>\n",
       "      <td>1</td>\n",
       "      <td>[2016-10-19 08:00:00,2016-10-19 08:20:00)</td>\n",
       "      <td>0</td>\n",
       "      <td>44.97</td>\n",
       "    </tr>\n",
       "    <tr>\n",
       "      <th>3</th>\n",
       "      <td>1</td>\n",
       "      <td>[2016-10-19 17:00:00,2016-10-19 17:20:00)</td>\n",
       "      <td>0</td>\n",
       "      <td>38.17</td>\n",
       "    </tr>\n",
       "    <tr>\n",
       "      <th>4</th>\n",
       "      <td>1</td>\n",
       "      <td>[2016-10-20 08:00:00,2016-10-20 08:20:00)</td>\n",
       "      <td>0</td>\n",
       "      <td>42.73</td>\n",
       "    </tr>\n",
       "  </tbody>\n",
       "</table>\n",
       "</div>"
      ],
      "text/plain": [
       "   tollgate_id                                time_window  direction  volume\n",
       "0            1  [2016-10-18 08:00:00,2016-10-18 08:20:00)          0   44.92\n",
       "1            1  [2016-10-18 17:00:00,2016-10-18 17:20:00)          0   40.68\n",
       "2            1  [2016-10-19 08:00:00,2016-10-19 08:20:00)          0   44.97\n",
       "3            1  [2016-10-19 17:00:00,2016-10-19 17:20:00)          0   38.17\n",
       "4            1  [2016-10-20 08:00:00,2016-10-20 08:20:00)          0   42.73"
      ]
     },
     "execution_count": 25,
     "metadata": {},
     "output_type": "execute_result"
    }
   ],
   "source": [
    "predict1_df = pd.read_csv(\"./train&test_zjw/volume_predict_stacking_pure.csv\")\n",
    "predict1_df.head()"
   ]
  },
  {
   "cell_type": "code",
   "execution_count": 26,
   "metadata": {
    "collapsed": false
   },
   "outputs": [
    {
     "data": {
      "text/html": [
       "<div>\n",
       "<table border=\"1\" class=\"dataframe\">\n",
       "  <thead>\n",
       "    <tr style=\"text-align: right;\">\n",
       "      <th></th>\n",
       "      <th>tollgate_id</th>\n",
       "      <th>time_window</th>\n",
       "      <th>direction</th>\n",
       "      <th>volume</th>\n",
       "    </tr>\n",
       "  </thead>\n",
       "  <tbody>\n",
       "    <tr>\n",
       "      <th>0</th>\n",
       "      <td>1</td>\n",
       "      <td>[2016-10-18 08:00:00,2016-10-18 08:20:00)</td>\n",
       "      <td>0</td>\n",
       "      <td>45.14</td>\n",
       "    </tr>\n",
       "    <tr>\n",
       "      <th>1</th>\n",
       "      <td>1</td>\n",
       "      <td>[2016-10-18 17:00:00,2016-10-18 17:20:00)</td>\n",
       "      <td>0</td>\n",
       "      <td>42.45</td>\n",
       "    </tr>\n",
       "    <tr>\n",
       "      <th>2</th>\n",
       "      <td>1</td>\n",
       "      <td>[2016-10-19 08:00:00,2016-10-19 08:20:00)</td>\n",
       "      <td>0</td>\n",
       "      <td>42.34</td>\n",
       "    </tr>\n",
       "    <tr>\n",
       "      <th>3</th>\n",
       "      <td>1</td>\n",
       "      <td>[2016-10-19 17:00:00,2016-10-19 17:20:00)</td>\n",
       "      <td>0</td>\n",
       "      <td>32.62</td>\n",
       "    </tr>\n",
       "    <tr>\n",
       "      <th>4</th>\n",
       "      <td>1</td>\n",
       "      <td>[2016-10-20 08:00:00,2016-10-20 08:20:00)</td>\n",
       "      <td>0</td>\n",
       "      <td>37.44</td>\n",
       "    </tr>\n",
       "  </tbody>\n",
       "</table>\n",
       "</div>"
      ],
      "text/plain": [
       "   tollgate_id                                time_window  direction  volume\n",
       "0            1  [2016-10-18 08:00:00,2016-10-18 08:20:00)          0   45.14\n",
       "1            1  [2016-10-18 17:00:00,2016-10-18 17:20:00)          0   42.45\n",
       "2            1  [2016-10-19 08:00:00,2016-10-19 08:20:00)          0   42.34\n",
       "3            1  [2016-10-19 17:00:00,2016-10-19 17:20:00)          0   32.62\n",
       "4            1  [2016-10-20 08:00:00,2016-10-20 08:20:00)          0   37.44"
      ]
     },
     "execution_count": 26,
     "metadata": {},
     "output_type": "execute_result"
    }
   ],
   "source": [
    "predict2_df = pd.read_csv(\"./train&test3_zjw/volume_predict_stacking_pure.csv\")\n",
    "predict2_df.head()"
   ]
  },
  {
   "cell_type": "code",
   "execution_count": 27,
   "metadata": {
    "collapsed": false
   },
   "outputs": [],
   "source": [
    "merge_result = pd.merge(predict1_df, predict2_df, on=[\"tollgate_id\", \"time_window\", \"direction\"])"
   ]
  },
  {
   "cell_type": "code",
   "execution_count": 28,
   "metadata": {
    "collapsed": false
   },
   "outputs": [
    {
     "data": {
      "text/html": [
       "<div>\n",
       "<table border=\"1\" class=\"dataframe\">\n",
       "  <thead>\n",
       "    <tr style=\"text-align: right;\">\n",
       "      <th></th>\n",
       "      <th>tollgate_id</th>\n",
       "      <th>direction</th>\n",
       "      <th>volume_x</th>\n",
       "      <th>volume_y</th>\n",
       "    </tr>\n",
       "  </thead>\n",
       "  <tbody>\n",
       "    <tr>\n",
       "      <th>tollgate_id</th>\n",
       "      <td>1.000000e+00</td>\n",
       "      <td>5.658654e-16</td>\n",
       "      <td>0.529526</td>\n",
       "      <td>0.461899</td>\n",
       "    </tr>\n",
       "    <tr>\n",
       "      <th>direction</th>\n",
       "      <td>5.658654e-16</td>\n",
       "      <td>1.000000e+00</td>\n",
       "      <td>0.195030</td>\n",
       "      <td>0.233731</td>\n",
       "    </tr>\n",
       "    <tr>\n",
       "      <th>volume_x</th>\n",
       "      <td>5.295260e-01</td>\n",
       "      <td>1.950297e-01</td>\n",
       "      <td>1.000000</td>\n",
       "      <td>0.901519</td>\n",
       "    </tr>\n",
       "    <tr>\n",
       "      <th>volume_y</th>\n",
       "      <td>4.618987e-01</td>\n",
       "      <td>2.337311e-01</td>\n",
       "      <td>0.901519</td>\n",
       "      <td>1.000000</td>\n",
       "    </tr>\n",
       "  </tbody>\n",
       "</table>\n",
       "</div>"
      ],
      "text/plain": [
       "              tollgate_id     direction  volume_x  volume_y\n",
       "tollgate_id  1.000000e+00  5.658654e-16  0.529526  0.461899\n",
       "direction    5.658654e-16  1.000000e+00  0.195030  0.233731\n",
       "volume_x     5.295260e-01  1.950297e-01  1.000000  0.901519\n",
       "volume_y     4.618987e-01  2.337311e-01  0.901519  1.000000"
      ]
     },
     "execution_count": 28,
     "metadata": {},
     "output_type": "execute_result"
    }
   ],
   "source": [
    "merge_result.corr()"
   ]
  },
  {
   "cell_type": "code",
   "execution_count": 29,
   "metadata": {
    "collapsed": false
   },
   "outputs": [],
   "source": [
    "merge_result[\"reduce\"] = (merge_result[\"volume_x\"] - merge_result[\"volume_y\"]) / merge_result[\"volume_x\"]\n",
    "merge_result[\"reduce2\"] = (merge_result[\"volume_x\"] - merge_result[\"volume_y\"]) / merge_result[\"volume_y\"]\n",
    "merge_result.to_csv(\"merge_result.csv\")"
   ]
  },
  {
   "cell_type": "code",
   "execution_count": 30,
   "metadata": {
    "collapsed": false
   },
   "outputs": [
    {
     "name": "stdout",
     "output_type": "stream",
     "text": [
      "311\n"
     ]
    }
   ],
   "source": [
    "count = 0;\n",
    "for i in merge_result[\"reduce\"]:\n",
    "    if i > 0:\n",
    "        count += 1\n",
    "print count"
   ]
  },
  {
   "cell_type": "code",
   "execution_count": 31,
   "metadata": {
    "collapsed": false
   },
   "outputs": [
    {
     "name": "stdout",
     "output_type": "stream",
     "text": [
      "0.142381893411\n",
      "0.1856843539\n"
     ]
    }
   ],
   "source": [
    "print np.abs(merge_result[\"reduce\"]).mean()\n",
    "print np.abs(merge_result[\"reduce2\"]).mean()"
   ]
  },
  {
   "cell_type": "code",
   "execution_count": 34,
   "metadata": {
    "collapsed": false,
    "scrolled": true
   },
   "outputs": [
    {
     "name": "stderr",
     "output_type": "stream",
     "text": [
      "D:\\Anaconda2\\lib\\site-packages\\ipykernel\\__main__.py:4: SettingWithCopyWarning: \n",
      "A value is trying to be set on a copy of a slice from a DataFrame.\n",
      "Try using .loc[row_indexer,col_indexer] = value instead\n",
      "\n",
      "See the caveats in the documentation: http://pandas.pydata.org/pandas-docs/stable/indexing.html#indexing-view-versus-copy\n"
     ]
    }
   ],
   "source": [
    "merge_result[\"volume\"] = 0.7 * merge_result[\"volume_x\"] + 0.3 * merge_result[\"volume_y\"]\n",
    "output_cols = [\"tollgate_id\", \"time_window\", \"direction\", \"volume\"]\n",
    "output_result = merge_result[output_cols]\n",
    "output_result[\"volume\"] = output_result[\"volume\"].apply(lambda x: \"%.2f\" % (x,))\n",
    "output_result.to_csv(\"merge_result2.csv\", index=None)"
   ]
  },
  {
   "cell_type": "code",
   "execution_count": null,
   "metadata": {
    "collapsed": true
   },
   "outputs": [],
   "source": []
  }
 ],
 "metadata": {
  "anaconda-cloud": {},
  "kernelspec": {
   "display_name": "Python [conda root]",
   "language": "python",
   "name": "conda-root-py"
  },
  "language_info": {
   "codemirror_mode": {
    "name": "ipython",
    "version": 2
   },
   "file_extension": ".py",
   "mimetype": "text/x-python",
   "name": "python",
   "nbconvert_exporter": "python",
   "pygments_lexer": "ipython2",
   "version": "2.7.12"
  }
 },
 "nbformat": 4,
 "nbformat_minor": 1
}
