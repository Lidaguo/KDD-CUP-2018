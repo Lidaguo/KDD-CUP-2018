{
 "cells": [
  {
   "cell_type": "code",
   "execution_count": 1,
   "metadata": {
    "collapsed": true
   },
   "outputs": [],
   "source": [
    "import pandas as pd\n",
    "import numpy as np"
   ]
  },
  {
   "cell_type": "code",
   "execution_count": 11,
   "metadata": {
    "collapsed": false,
    "scrolled": true
   },
   "outputs": [
    {
     "data": {
      "text/html": [
       "<div>\n",
       "<table border=\"1\" class=\"dataframe\">\n",
       "  <thead>\n",
       "    <tr style=\"text-align: right;\">\n",
       "      <th></th>\n",
       "      <th>tollgate_id</th>\n",
       "      <th>time_window</th>\n",
       "      <th>direction</th>\n",
       "      <th>volume</th>\n",
       "    </tr>\n",
       "  </thead>\n",
       "  <tbody>\n",
       "    <tr>\n",
       "      <th>0</th>\n",
       "      <td>1</td>\n",
       "      <td>[2016-10-25 17:00:00,2016-10-25 17:20:00)</td>\n",
       "      <td>0</td>\n",
       "      <td>38.31</td>\n",
       "    </tr>\n",
       "    <tr>\n",
       "      <th>1</th>\n",
       "      <td>1</td>\n",
       "      <td>[2016-10-26 17:00:00,2016-10-26 17:20:00)</td>\n",
       "      <td>0</td>\n",
       "      <td>45.65</td>\n",
       "    </tr>\n",
       "    <tr>\n",
       "      <th>2</th>\n",
       "      <td>1</td>\n",
       "      <td>[2016-10-27 17:00:00,2016-10-27 17:20:00)</td>\n",
       "      <td>0</td>\n",
       "      <td>44.20</td>\n",
       "    </tr>\n",
       "    <tr>\n",
       "      <th>3</th>\n",
       "      <td>1</td>\n",
       "      <td>[2016-10-28 17:00:00,2016-10-28 17:20:00)</td>\n",
       "      <td>0</td>\n",
       "      <td>67.33</td>\n",
       "    </tr>\n",
       "    <tr>\n",
       "      <th>4</th>\n",
       "      <td>1</td>\n",
       "      <td>[2016-10-29 17:00:00,2016-10-29 17:20:00)</td>\n",
       "      <td>0</td>\n",
       "      <td>42.83</td>\n",
       "    </tr>\n",
       "  </tbody>\n",
       "</table>\n",
       "</div>"
      ],
      "text/plain": [
       "   tollgate_id                                time_window  direction  volume\n",
       "0            1  [2016-10-25 17:00:00,2016-10-25 17:20:00)          0   38.31\n",
       "1            1  [2016-10-26 17:00:00,2016-10-26 17:20:00)          0   45.65\n",
       "2            1  [2016-10-27 17:00:00,2016-10-27 17:20:00)          0   44.20\n",
       "3            1  [2016-10-28 17:00:00,2016-10-28 17:20:00)          0   67.33\n",
       "4            1  [2016-10-29 17:00:00,2016-10-29 17:20:00)          0   42.83"
      ]
     },
     "execution_count": 11,
     "metadata": {},
     "output_type": "execute_result"
    }
   ],
   "source": [
    "predict1_df = pd.read_csv(\"./merge_result1.csv\")\n",
    "predict1_df.head()"
   ]
  },
  {
   "cell_type": "code",
   "execution_count": 12,
   "metadata": {
    "collapsed": false
   },
   "outputs": [
    {
     "data": {
      "text/html": [
       "<div>\n",
       "<table border=\"1\" class=\"dataframe\">\n",
       "  <thead>\n",
       "    <tr style=\"text-align: right;\">\n",
       "      <th></th>\n",
       "      <th>tollgate_id</th>\n",
       "      <th>time_window</th>\n",
       "      <th>direction</th>\n",
       "      <th>volume</th>\n",
       "    </tr>\n",
       "  </thead>\n",
       "  <tbody>\n",
       "    <tr>\n",
       "      <th>0</th>\n",
       "      <td>1</td>\n",
       "      <td>[2016-10-25 08:00:00,2016-10-25 08:20:00)</td>\n",
       "      <td>0</td>\n",
       "      <td>51.97</td>\n",
       "    </tr>\n",
       "    <tr>\n",
       "      <th>1</th>\n",
       "      <td>1</td>\n",
       "      <td>[2016-10-26 08:00:00,2016-10-26 08:20:00)</td>\n",
       "      <td>0</td>\n",
       "      <td>52.00</td>\n",
       "    </tr>\n",
       "    <tr>\n",
       "      <th>2</th>\n",
       "      <td>1</td>\n",
       "      <td>[2016-10-27 08:00:00,2016-10-27 08:20:00)</td>\n",
       "      <td>0</td>\n",
       "      <td>43.73</td>\n",
       "    </tr>\n",
       "    <tr>\n",
       "      <th>3</th>\n",
       "      <td>1</td>\n",
       "      <td>[2016-10-28 08:00:00,2016-10-28 08:20:00)</td>\n",
       "      <td>0</td>\n",
       "      <td>53.21</td>\n",
       "    </tr>\n",
       "    <tr>\n",
       "      <th>4</th>\n",
       "      <td>1</td>\n",
       "      <td>[2016-10-29 08:00:00,2016-10-29 08:20:00)</td>\n",
       "      <td>0</td>\n",
       "      <td>40.41</td>\n",
       "    </tr>\n",
       "  </tbody>\n",
       "</table>\n",
       "</div>"
      ],
      "text/plain": [
       "   tollgate_id                                time_window  direction  volume\n",
       "0            1  [2016-10-25 08:00:00,2016-10-25 08:20:00)          0   51.97\n",
       "1            1  [2016-10-26 08:00:00,2016-10-26 08:20:00)          0   52.00\n",
       "2            1  [2016-10-27 08:00:00,2016-10-27 08:20:00)          0   43.73\n",
       "3            1  [2016-10-28 08:00:00,2016-10-28 08:20:00)          0   53.21\n",
       "4            1  [2016-10-29 08:00:00,2016-10-29 08:20:00)          0   40.41"
      ]
     },
     "execution_count": 12,
     "metadata": {},
     "output_type": "execute_result"
    }
   ],
   "source": [
    "predict2_df = pd.read_csv(\"./train&test_zjw/volume_predict_stacking_pure2.csv\")\n",
    "predict2_df.head()"
   ]
  },
  {
   "cell_type": "code",
   "execution_count": 13,
   "metadata": {
    "collapsed": false
   },
   "outputs": [
    {
     "name": "stdout",
     "output_type": "stream",
     "text": [
      "<class 'pandas.core.frame.DataFrame'>\n",
      "Int64Index: 420 entries, 0 to 419\n",
      "Data columns (total 5 columns):\n",
      "tollgate_id    420 non-null int64\n",
      "time_window    420 non-null object\n",
      "direction      420 non-null int64\n",
      "volume_x       420 non-null float64\n",
      "volume_y       420 non-null float64\n",
      "dtypes: float64(2), int64(2), object(1)\n",
      "memory usage: 19.7+ KB\n"
     ]
    }
   ],
   "source": [
    "merge_result = pd.merge(predict1_df, predict2_df, on=[\"tollgate_id\", \"time_window\", \"direction\"])\n",
    "merge_result.info()"
   ]
  },
  {
   "cell_type": "code",
   "execution_count": 14,
   "metadata": {
    "collapsed": false,
    "scrolled": false
   },
   "outputs": [
    {
     "data": {
      "text/html": [
       "<div>\n",
       "<table border=\"1\" class=\"dataframe\">\n",
       "  <thead>\n",
       "    <tr style=\"text-align: right;\">\n",
       "      <th></th>\n",
       "      <th>tollgate_id</th>\n",
       "      <th>direction</th>\n",
       "      <th>volume_x</th>\n",
       "      <th>volume_y</th>\n",
       "    </tr>\n",
       "  </thead>\n",
       "  <tbody>\n",
       "    <tr>\n",
       "      <th>tollgate_id</th>\n",
       "      <td>1.000000e+00</td>\n",
       "      <td>1.206536e-18</td>\n",
       "      <td>0.377487</td>\n",
       "      <td>0.397362</td>\n",
       "    </tr>\n",
       "    <tr>\n",
       "      <th>direction</th>\n",
       "      <td>1.206536e-18</td>\n",
       "      <td>1.000000e+00</td>\n",
       "      <td>0.269057</td>\n",
       "      <td>0.233383</td>\n",
       "    </tr>\n",
       "    <tr>\n",
       "      <th>volume_x</th>\n",
       "      <td>3.774872e-01</td>\n",
       "      <td>2.690569e-01</td>\n",
       "      <td>1.000000</td>\n",
       "      <td>0.954326</td>\n",
       "    </tr>\n",
       "    <tr>\n",
       "      <th>volume_y</th>\n",
       "      <td>3.973616e-01</td>\n",
       "      <td>2.333831e-01</td>\n",
       "      <td>0.954326</td>\n",
       "      <td>1.000000</td>\n",
       "    </tr>\n",
       "  </tbody>\n",
       "</table>\n",
       "</div>"
      ],
      "text/plain": [
       "              tollgate_id     direction  volume_x  volume_y\n",
       "tollgate_id  1.000000e+00  1.206536e-18  0.377487  0.397362\n",
       "direction    1.206536e-18  1.000000e+00  0.269057  0.233383\n",
       "volume_x     3.774872e-01  2.690569e-01  1.000000  0.954326\n",
       "volume_y     3.973616e-01  2.333831e-01  0.954326  1.000000"
      ]
     },
     "execution_count": 14,
     "metadata": {},
     "output_type": "execute_result"
    }
   ],
   "source": [
    "merge_result.corr()"
   ]
  },
  {
   "cell_type": "code",
   "execution_count": 15,
   "metadata": {
    "collapsed": false
   },
   "outputs": [],
   "source": [
    "merge_result[\"reduce\"] = (merge_result[\"volume_x\"] - merge_result[\"volume_y\"]) / merge_result[\"volume_x\"]\n",
    "merge_result[\"reduce2\"] = (merge_result[\"volume_x\"] - merge_result[\"volume_y\"]) / merge_result[\"volume_y\"]\n",
    "merge_result.to_csv(\"merge_result.csv\")"
   ]
  },
  {
   "cell_type": "code",
   "execution_count": 16,
   "metadata": {
    "collapsed": false
   },
   "outputs": [
    {
     "name": "stdout",
     "output_type": "stream",
     "text": [
      "214\n"
     ]
    }
   ],
   "source": [
    "count = 0;\n",
    "for i in merge_result[\"reduce\"]:\n",
    "    if i > 0:\n",
    "        count += 1\n",
    "print count"
   ]
  },
  {
   "cell_type": "code",
   "execution_count": 17,
   "metadata": {
    "collapsed": false,
    "scrolled": true
   },
   "outputs": [
    {
     "name": "stdout",
     "output_type": "stream",
     "text": [
      "0.0996516738072\n",
      "0.0978011837038\n"
     ]
    }
   ],
   "source": [
    "print np.abs(merge_result[\"reduce\"]).mean()\n",
    "print np.abs(merge_result[\"reduce2\"]).mean()"
   ]
  },
  {
   "cell_type": "code",
   "execution_count": 18,
   "metadata": {
    "collapsed": false,
    "scrolled": true
   },
   "outputs": [
    {
     "name": "stderr",
     "output_type": "stream",
     "text": [
      "D:\\Anaconda2\\lib\\site-packages\\ipykernel\\__main__.py:4: SettingWithCopyWarning: \n",
      "A value is trying to be set on a copy of a slice from a DataFrame.\n",
      "Try using .loc[row_indexer,col_indexer] = value instead\n",
      "\n",
      "See the caveats in the documentation: http://pandas.pydata.org/pandas-docs/stable/indexing.html#indexing-view-versus-copy\n"
     ]
    }
   ],
   "source": [
    "merge_result[\"volume\"] = 0.7 * merge_result[\"volume_x\"] + 0.3 * merge_result[\"volume_y\"]\n",
    "output_cols = [\"tollgate_id\", \"time_window\", \"direction\", \"volume\"]\n",
    "output_result = merge_result[output_cols]\n",
    "output_result[\"volume\"] = output_result[\"volume\"].apply(lambda x: \"%.2f\" % (x,))\n",
    "output_result.to_csv(\"merge_result.csv\", index=None)"
   ]
  },
  {
   "cell_type": "code",
   "execution_count": null,
   "metadata": {
    "collapsed": true
   },
   "outputs": [],
   "source": []
  }
 ],
 "metadata": {
  "anaconda-cloud": {},
  "kernelspec": {
   "display_name": "Python [conda root]",
   "language": "python",
   "name": "conda-root-py"
  },
  "language_info": {
   "codemirror_mode": {
    "name": "ipython",
    "version": 2
   },
   "file_extension": ".py",
   "mimetype": "text/x-python",
   "name": "python",
   "nbconvert_exporter": "python",
   "pygments_lexer": "ipython2",
   "version": "2.7.12"
  }
 },
 "nbformat": 4,
 "nbformat_minor": 1
}
