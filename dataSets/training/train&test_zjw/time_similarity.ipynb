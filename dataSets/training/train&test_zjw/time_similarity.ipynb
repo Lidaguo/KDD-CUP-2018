{
 "cells": [
  {
   "cell_type": "code",
   "execution_count": 2,
   "metadata": {
    "collapsed": true
   },
   "outputs": [],
   "source": [
    "import pandas as pd\n",
    "import numpy as np"
   ]
  },
  {
   "cell_type": "code",
   "execution_count": 5,
   "metadata": {
    "collapsed": false,
    "scrolled": true
   },
   "outputs": [
    {
     "data": {
      "text/plain": [
       "Index([u'Unnamed: 0', u'cargo_count0', u'cargo_count1', u'cargo_count2',\n",
       "       u'cargo_count3', u'cargo_count4', u'cargo_count5', u'cargo_model0',\n",
       "       u'cargo_model1', u'cargo_model2', u'cargo_model3', u'cargo_model4',\n",
       "       u'cargo_model5', u'cargo_model_avg0', u'cargo_model_avg1',\n",
       "       u'cargo_model_avg2', u'cargo_model_avg3', u'cargo_model_avg4',\n",
       "       u'cargo_model_avg5', u'etc_count0', u'etc_count1', u'etc_count2',\n",
       "       u'etc_count3', u'etc_count4', u'etc_count5', u'no_count0', u'no_count1',\n",
       "       u'no_count2', u'no_count3', u'no_count4', u'no_count5',\n",
       "       u'passenger_count0', u'passenger_count1', u'passenger_count2',\n",
       "       u'passenger_count3', u'passenger_count4', u'passenger_count5',\n",
       "       u'passenger_model0', u'passenger_model1', u'passenger_model2',\n",
       "       u'passenger_model3', u'passenger_model4', u'passenger_model5',\n",
       "       u'passenger_model_avg0', u'passenger_model_avg1',\n",
       "       u'passenger_model_avg2', u'passenger_model_avg3',\n",
       "       u'passenger_model_avg4', u'passenger_model_avg5', u'vehicle_model0',\n",
       "       u'vehicle_model1', u'vehicle_model2', u'vehicle_model3',\n",
       "       u'vehicle_model4', u'vehicle_model5', u'vehicle_model_avg0',\n",
       "       u'vehicle_model_avg1', u'vehicle_model_avg2', u'vehicle_model_avg3',\n",
       "       u'vehicle_model_avg4', u'vehicle_model_avg5', u'volume0', u'volume1',\n",
       "       u'volume2', u'volume3', u'volume4', u'volume5', u'y',\n",
       "       u'vehicle_all_model', u'cargo_all_model', u'passenger_all_model',\n",
       "       u'no_all_count', u'cargo_all_count', u'passenger_all_count',\n",
       "       u'volume_all', u'etc_all_count', u'vehicle_all_model_avg',\n",
       "       u'cargo_all_model_avg', u'passenger_all_model_avg', u'month', u'day',\n",
       "       u'hour', u'minute'],\n",
       "      dtype='object')"
      ]
     },
     "execution_count": 5,
     "metadata": {},
     "output_type": "execute_result"
    }
   ],
   "source": [
    "train_data = pd.read_csv(\"volume_entry_train_1S.csv\")\n",
    "train_data.columns"
   ]
  },
  {
   "cell_type": "code",
   "execution_count": 28,
   "metadata": {
    "collapsed": false
   },
   "outputs": [],
   "source": [
    "# 训练集做的不对，六个时段模型的训练集应该是分开的，但是这里合在一块了，区别就是下面这几个字段\n",
    "del train_data[\"month\"]\n",
    "del train_data[\"day\"]\n",
    "del train_data[\"hour\"]\n",
    "del train_data[\"minute\"]\n",
    "train_data[\"time\"] = train_data[\"Unnamed: 0\"]\n",
    "del train_data[\"Unnamed: 0\"]"
   ]
  },
  {
   "cell_type": "code",
   "execution_count": 30,
   "metadata": {
    "collapsed": false
   },
   "outputs": [],
   "source": [
    "# 获取每一天6点到8点的流量，和8点到10点的流量\n",
    "train_data[\"time\"] = train_data[\"time\"].apply(lambda x: pd.Timestamp(x))\n",
    "train_data[\"month\"] = train_data[\"time\"].apply(lambda x: x.month)\n",
    "train_data[\"day\"] = train_data[\"time\"].apply(lambda x: x.day)\n",
    "train_data[\"hour\"] = train_data[\"time\"].apply(lambda x: x.hour)\n",
    "train_data[\"minute\"] = train_data[\"time\"].apply(lambda x: x.minute)\n",
    "train_6_8 = train_data[(train_data[\"hour\"] >= 6) & (train_data[\"hour\"] < 8)][[\"y\", \"day\", \"month\"]]\n",
    "train_6_8.index = train_data[(train_data[\"hour\"] >= 6) & (train_data[\"hour\"] < 8)][\"time\"]\n",
    "train_8_10 = train_data[(train_data[\"hour\"] >= 8) & (train_data[\"hour\"] < 10)][[\"y\", \"day\", \"month\"]]\n",
    "train_8_10.index = train_data[(train_data[\"hour\"] >= 8) & (train_data[\"hour\"] < 10)][\"time\"]"
   ]
  },
  {
   "cell_type": "code",
   "execution_count": 41,
   "metadata": {
    "collapsed": false
   },
   "outputs": [],
   "source": [
    "# 按天拆分成无数个元素\n",
    "train_time_lst = [train_6_8[(train_6_8[\"day\"] == i) & (train_6_8[\"month\"] == 9)][\"y\"] for i in range(19, 31, 1)]\n",
    "train_time_lst += [train_6_8[(train_6_8[\"day\"] == i) & (train_6_8[\"month\"] == 10)][\"y\"] for i in range(1, 18, 1)]\n",
    "predict_time_lst = [train_8_10[(train_8_10[\"day\"] == i) & (train_8_10[\"month\"] == 9)][\"y\"] for i in range(19, 31, 1)]\n",
    "predict_time_lst += [train_8_10[(train_8_10[\"day\"] == i) & (train_8_10[\"month\"] == 10)][\"y\"] for i in range(1, 18, 1)]"
   ]
  },
  {
   "cell_type": "code",
   "execution_count": 42,
   "metadata": {
    "collapsed": false
   },
   "outputs": [
    {
     "data": {
      "text/plain": [
       "[time\n",
       " 2016-09-19 08:00:00    44.0\n",
       " 2016-09-19 08:20:00    44.0\n",
       " 2016-09-19 08:40:00    44.0\n",
       " 2016-09-19 09:00:00    39.0\n",
       " 2016-09-19 09:20:00    30.0\n",
       " 2016-09-19 09:40:00    34.0\n",
       " Name: y, dtype: float64, time\n",
       " 2016-09-20 08:00:00    56.0\n",
       " 2016-09-20 08:20:00    60.0\n",
       " 2016-09-20 08:40:00    63.0\n",
       " 2016-09-20 09:00:00    57.0\n",
       " 2016-09-20 09:20:00    64.0\n",
       " 2016-09-20 09:40:00    50.0\n",
       " Name: y, dtype: float64, time\n",
       " 2016-09-21 08:00:00    36.0\n",
       " 2016-09-21 08:20:00    57.0\n",
       " 2016-09-21 08:40:00    37.0\n",
       " 2016-09-21 09:00:00    32.0\n",
       " 2016-09-21 09:20:00    27.0\n",
       " 2016-09-21 09:40:00    32.0\n",
       " Name: y, dtype: float64, time\n",
       " 2016-09-22 08:00:00    47.0\n",
       " 2016-09-22 08:20:00    49.0\n",
       " 2016-09-22 08:40:00    43.0\n",
       " 2016-09-22 09:00:00    27.0\n",
       " 2016-09-22 09:20:00    35.0\n",
       " 2016-09-22 09:40:00    49.0\n",
       " Name: y, dtype: float64, time\n",
       " 2016-09-23 08:00:00    58.0\n",
       " 2016-09-23 08:20:00    53.0\n",
       " 2016-09-23 08:40:00    56.0\n",
       " 2016-09-23 09:00:00    56.0\n",
       " 2016-09-23 09:20:00    45.0\n",
       " 2016-09-23 09:40:00    41.0\n",
       " Name: y, dtype: float64, time\n",
       " 2016-09-24 08:00:00    56.0\n",
       " 2016-09-24 08:20:00    70.0\n",
       " 2016-09-24 08:40:00    54.0\n",
       " 2016-09-24 09:00:00    54.0\n",
       " 2016-09-24 09:20:00    58.0\n",
       " 2016-09-24 09:40:00    47.0\n",
       " Name: y, dtype: float64, time\n",
       " 2016-09-25 08:00:00    50.0\n",
       " 2016-09-25 08:20:00    47.0\n",
       " 2016-09-25 08:40:00    55.0\n",
       " 2016-09-25 09:00:00    55.0\n",
       " 2016-09-25 09:20:00    54.0\n",
       " 2016-09-25 09:40:00    29.0\n",
       " Name: y, dtype: float64, time\n",
       " 2016-09-26 08:00:00    47.0\n",
       " 2016-09-26 08:20:00    52.0\n",
       " 2016-09-26 08:40:00    36.0\n",
       " 2016-09-26 09:00:00    36.0\n",
       " 2016-09-26 09:20:00    35.0\n",
       " 2016-09-26 09:40:00    52.0\n",
       " Name: y, dtype: float64, time\n",
       " 2016-09-27 08:00:00    50.0\n",
       " 2016-09-27 08:20:00    35.0\n",
       " 2016-09-27 08:40:00    58.0\n",
       " 2016-09-27 09:00:00    31.0\n",
       " 2016-09-27 09:20:00    47.0\n",
       " 2016-09-27 09:40:00    33.0\n",
       " Name: y, dtype: float64, time\n",
       " 2016-09-28 08:00:00    109.0\n",
       " 2016-09-28 08:20:00     89.0\n",
       " 2016-09-28 08:40:00    110.0\n",
       " 2016-09-28 09:00:00     88.0\n",
       " 2016-09-28 09:20:00     91.0\n",
       " 2016-09-28 09:40:00     78.0\n",
       " Name: y, dtype: float64, time\n",
       " 2016-09-29 08:00:00    56.0\n",
       " 2016-09-29 08:20:00    51.0\n",
       " 2016-09-29 08:40:00    40.0\n",
       " 2016-09-29 09:00:00    39.0\n",
       " 2016-09-29 09:20:00    41.0\n",
       " 2016-09-29 09:40:00    36.0\n",
       " Name: y, dtype: float64, time\n",
       " 2016-09-30 08:00:00    80.0\n",
       " 2016-09-30 08:20:00    82.0\n",
       " 2016-09-30 08:40:00    71.0\n",
       " 2016-09-30 09:00:00    55.0\n",
       " 2016-09-30 09:20:00    48.0\n",
       " 2016-09-30 09:40:00    55.0\n",
       " Name: y, dtype: float64, time\n",
       " 2016-10-01 08:00:00    281.0\n",
       " 2016-10-01 08:20:00    204.0\n",
       " 2016-10-01 08:40:00    212.0\n",
       " 2016-10-01 09:00:00    202.0\n",
       " 2016-10-01 09:20:00    195.0\n",
       " 2016-10-01 09:40:00    188.0\n",
       " Name: y, dtype: float64, time\n",
       " 2016-10-02 08:00:00    130.0\n",
       " 2016-10-02 08:20:00    152.0\n",
       " 2016-10-02 08:40:00    194.0\n",
       " 2016-10-02 09:00:00    160.0\n",
       " 2016-10-02 09:20:00    154.0\n",
       " 2016-10-02 09:40:00    158.0\n",
       " Name: y, dtype: float64, time\n",
       " 2016-10-03 08:00:00    170.0\n",
       " 2016-10-03 08:20:00    139.0\n",
       " 2016-10-03 08:40:00    119.0\n",
       " 2016-10-03 09:00:00    103.0\n",
       " 2016-10-03 09:20:00    189.0\n",
       " 2016-10-03 09:40:00    120.0\n",
       " Name: y, dtype: float64, time\n",
       " 2016-10-04 08:00:00    241.0\n",
       " 2016-10-04 08:20:00    213.0\n",
       " 2016-10-04 08:40:00    224.0\n",
       " 2016-10-04 09:00:00    176.0\n",
       " 2016-10-04 09:20:00    164.0\n",
       " 2016-10-04 09:40:00    151.0\n",
       " Name: y, dtype: float64, time\n",
       " 2016-10-05 08:00:00    179.0\n",
       " 2016-10-05 08:20:00    212.0\n",
       " 2016-10-05 08:40:00    223.0\n",
       " 2016-10-05 09:00:00    181.0\n",
       " 2016-10-05 09:20:00    180.0\n",
       " 2016-10-05 09:40:00    142.0\n",
       " Name: y, dtype: float64, time\n",
       " 2016-10-06 08:00:00    178.0\n",
       " 2016-10-06 08:20:00    132.0\n",
       " 2016-10-06 08:40:00    130.0\n",
       " 2016-10-06 09:00:00    147.0\n",
       " 2016-10-06 09:20:00    135.0\n",
       " 2016-10-06 09:40:00    147.0\n",
       " Name: y, dtype: float64, time\n",
       " 2016-10-07 08:00:00    151.0\n",
       " 2016-10-07 08:20:00    119.0\n",
       " 2016-10-07 08:40:00    153.0\n",
       " 2016-10-07 09:00:00    130.0\n",
       " 2016-10-07 09:20:00    122.0\n",
       " 2016-10-07 09:40:00    115.0\n",
       " Name: y, dtype: float64, time\n",
       " 2016-10-08 08:00:00    37.0\n",
       " 2016-10-08 08:20:00    41.0\n",
       " 2016-10-08 08:40:00    34.0\n",
       " 2016-10-08 09:00:00    25.0\n",
       " 2016-10-08 09:20:00    28.0\n",
       " 2016-10-08 09:40:00    24.0\n",
       " Name: y, dtype: float64, time\n",
       " 2016-10-09 08:00:00    28.0\n",
       " 2016-10-09 08:20:00    40.0\n",
       " 2016-10-09 08:40:00    39.0\n",
       " 2016-10-09 09:00:00    38.0\n",
       " 2016-10-09 09:20:00    28.0\n",
       " 2016-10-09 09:40:00    26.0\n",
       " Name: y, dtype: float64, time\n",
       " 2016-10-10 08:00:00    35.0\n",
       " 2016-10-10 08:20:00    42.0\n",
       " 2016-10-10 08:40:00    40.0\n",
       " 2016-10-10 09:00:00    37.0\n",
       " 2016-10-10 09:20:00    26.0\n",
       " 2016-10-10 09:40:00    19.0\n",
       " Name: y, dtype: float64, time\n",
       " 2016-10-11 08:00:00    37.0\n",
       " 2016-10-11 08:20:00    47.0\n",
       " 2016-10-11 08:40:00    37.0\n",
       " 2016-10-11 09:00:00    37.0\n",
       " 2016-10-11 09:20:00    37.0\n",
       " 2016-10-11 09:40:00    47.0\n",
       " Name: y, dtype: float64, time\n",
       " 2016-10-12 08:00:00    47.0\n",
       " 2016-10-12 08:20:00    43.0\n",
       " 2016-10-12 08:40:00    36.0\n",
       " 2016-10-12 09:00:00    33.0\n",
       " 2016-10-12 09:20:00    40.0\n",
       " 2016-10-12 09:40:00    39.0\n",
       " Name: y, dtype: float64, time\n",
       " 2016-10-13 08:00:00    56.0\n",
       " 2016-10-13 08:20:00    44.0\n",
       " 2016-10-13 08:40:00    34.0\n",
       " 2016-10-13 09:00:00    28.0\n",
       " 2016-10-13 09:20:00    34.0\n",
       " 2016-10-13 09:40:00    35.0\n",
       " Name: y, dtype: float64, time\n",
       " 2016-10-14 08:00:00    53.0\n",
       " 2016-10-14 08:20:00    47.0\n",
       " 2016-10-14 08:40:00    43.0\n",
       " 2016-10-14 09:00:00    43.0\n",
       " 2016-10-14 09:20:00    41.0\n",
       " 2016-10-14 09:40:00    41.0\n",
       " Name: y, dtype: float64, time\n",
       " 2016-10-15 08:00:00    60.0\n",
       " 2016-10-15 08:20:00    65.0\n",
       " 2016-10-15 08:40:00    54.0\n",
       " 2016-10-15 09:00:00    59.0\n",
       " 2016-10-15 09:20:00    44.0\n",
       " 2016-10-15 09:40:00    45.0\n",
       " Name: y, dtype: float64, time\n",
       " 2016-10-16 08:00:00    38.0\n",
       " 2016-10-16 08:20:00    60.0\n",
       " 2016-10-16 08:40:00    52.0\n",
       " 2016-10-16 09:00:00    50.0\n",
       " 2016-10-16 09:20:00    43.0\n",
       " 2016-10-16 09:40:00    26.0\n",
       " Name: y, dtype: float64, time\n",
       " 2016-10-17 08:00:00    46.0\n",
       " 2016-10-17 08:20:00    57.0\n",
       " 2016-10-17 08:40:00    38.0\n",
       " 2016-10-17 09:00:00    29.0\n",
       " 2016-10-17 09:20:00    39.0\n",
       " 2016-10-17 09:40:00    33.0\n",
       " Name: y, dtype: float64]"
      ]
     },
     "execution_count": 42,
     "metadata": {},
     "output_type": "execute_result"
    }
   ],
   "source": [
    "predict_time_lst"
   ]
  },
  {
   "cell_type": "code",
   "execution_count": 43,
   "metadata": {
    "collapsed": false
   },
   "outputs": [
    {
     "data": {
      "text/plain": [
       "time\n",
       "2016-10-08 08:00:00    37.0\n",
       "2016-10-08 08:20:00    41.0\n",
       "2016-10-08 08:40:00    34.0\n",
       "2016-10-08 09:00:00    25.0\n",
       "2016-10-08 09:20:00    28.0\n",
       "2016-10-08 09:40:00    24.0\n",
       "Name: y, dtype: float64"
      ]
     },
     "execution_count": 43,
     "metadata": {},
     "output_type": "execute_result"
    }
   ],
   "source": [
    "test_list = pd.Series([1,2,3,4,5,6])\n",
    "def score(list1, list2):\n",
    "    temp1 = pd.Series(list1.values)\n",
    "    temp2 = pd.Series(list2.values)\n",
    "    return ((temp1 - temp2) ** 2).mean()\n",
    "score_list = pd.Series([score(test_list, train) for train in train_time_lst], index = range(29))\n",
    "predict_result = predict_time_lst[score_list.idxmin()]\n",
    "predict_result"
   ]
  },
  {
   "cell_type": "code",
   "execution_count": null,
   "metadata": {
    "collapsed": true
   },
   "outputs": [],
   "source": []
  }
 ],
 "metadata": {
  "anaconda-cloud": {},
  "kernelspec": {
   "display_name": "Python 2",
   "language": "python",
   "name": "python2"
  },
  "language_info": {
   "codemirror_mode": {
    "name": "ipython",
    "version": 2
   },
   "file_extension": ".py",
   "mimetype": "text/x-python",
   "name": "python",
   "nbconvert_exporter": "python",
   "pygments_lexer": "ipython2",
   "version": "2.7.13"
  }
 },
 "nbformat": 4,
 "nbformat_minor": 1
}
