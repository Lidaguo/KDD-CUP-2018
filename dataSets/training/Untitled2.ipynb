{
 "cells": [
  {
   "cell_type": "code",
   "execution_count": 1,
   "metadata": {
    "collapsed": true
   },
   "outputs": [],
   "source": [
    "import pandas as pd\n",
    "import numpy as np"
   ]
  },
  {
   "cell_type": "code",
   "execution_count": 9,
   "metadata": {
    "collapsed": false
   },
   "outputs": [
    {
     "data": {
      "text/html": [
       "<div>\n",
       "<table border=\"1\" class=\"dataframe\">\n",
       "  <thead>\n",
       "    <tr style=\"text-align: right;\">\n",
       "      <th></th>\n",
       "      <th>tollgate_id</th>\n",
       "      <th>time_window</th>\n",
       "      <th>direction</th>\n",
       "      <th>volume</th>\n",
       "    </tr>\n",
       "  </thead>\n",
       "  <tbody>\n",
       "    <tr>\n",
       "      <th>0</th>\n",
       "      <td>1</td>\n",
       "      <td>[2016-10-18 08:00:00,2016-10-18 08:20:00)</td>\n",
       "      <td>0</td>\n",
       "      <td>47.83</td>\n",
       "    </tr>\n",
       "    <tr>\n",
       "      <th>1</th>\n",
       "      <td>1</td>\n",
       "      <td>[2016-10-18 08:20:00,2016-10-18 08:40:00)</td>\n",
       "      <td>0</td>\n",
       "      <td>49.31</td>\n",
       "    </tr>\n",
       "    <tr>\n",
       "      <th>2</th>\n",
       "      <td>1</td>\n",
       "      <td>[2016-10-18 08:40:00,2016-10-18 09:00:00)</td>\n",
       "      <td>0</td>\n",
       "      <td>51.21</td>\n",
       "    </tr>\n",
       "    <tr>\n",
       "      <th>3</th>\n",
       "      <td>1</td>\n",
       "      <td>[2016-10-18 09:00:00,2016-10-18 09:20:00)</td>\n",
       "      <td>0</td>\n",
       "      <td>46.71</td>\n",
       "    </tr>\n",
       "    <tr>\n",
       "      <th>4</th>\n",
       "      <td>1</td>\n",
       "      <td>[2016-10-18 09:20:00,2016-10-18 09:40:00)</td>\n",
       "      <td>0</td>\n",
       "      <td>47.61</td>\n",
       "    </tr>\n",
       "  </tbody>\n",
       "</table>\n",
       "</div>"
      ],
      "text/plain": [
       "   tollgate_id                                time_window  direction  volume\n",
       "0            1  [2016-10-18 08:00:00,2016-10-18 08:20:00)          0   47.83\n",
       "1            1  [2016-10-18 08:20:00,2016-10-18 08:40:00)          0   49.31\n",
       "2            1  [2016-10-18 08:40:00,2016-10-18 09:00:00)          0   51.21\n",
       "3            1  [2016-10-18 09:00:00,2016-10-18 09:20:00)          0   46.71\n",
       "4            1  [2016-10-18 09:20:00,2016-10-18 09:40:00)          0   47.61"
      ]
     },
     "execution_count": 9,
     "metadata": {},
     "output_type": "execute_result"
    }
   ],
   "source": [
    "predict1_df = pd.read_csv(\"volume_predict3_focus_type2.csv\")\n",
    "predict1_df.head()"
   ]
  },
  {
   "cell_type": "code",
   "execution_count": 10,
   "metadata": {
    "collapsed": false,
    "scrolled": true
   },
   "outputs": [
    {
     "data": {
      "text/html": [
       "<div>\n",
       "<table border=\"1\" class=\"dataframe\">\n",
       "  <thead>\n",
       "    <tr style=\"text-align: right;\">\n",
       "      <th></th>\n",
       "      <th>tollgate_id</th>\n",
       "      <th>time_window</th>\n",
       "      <th>direction</th>\n",
       "      <th>volume</th>\n",
       "    </tr>\n",
       "  </thead>\n",
       "  <tbody>\n",
       "    <tr>\n",
       "      <th>0</th>\n",
       "      <td>1</td>\n",
       "      <td>[2016-10-18 08:00:00,2016-10-18 08:20:00)</td>\n",
       "      <td>0</td>\n",
       "      <td>44.99</td>\n",
       "    </tr>\n",
       "    <tr>\n",
       "      <th>1</th>\n",
       "      <td>1</td>\n",
       "      <td>[2016-10-18 17:00:00,2016-10-18 17:20:00)</td>\n",
       "      <td>0</td>\n",
       "      <td>41.21</td>\n",
       "    </tr>\n",
       "    <tr>\n",
       "      <th>2</th>\n",
       "      <td>1</td>\n",
       "      <td>[2016-10-19 08:00:00,2016-10-19 08:20:00)</td>\n",
       "      <td>0</td>\n",
       "      <td>44.18</td>\n",
       "    </tr>\n",
       "    <tr>\n",
       "      <th>3</th>\n",
       "      <td>1</td>\n",
       "      <td>[2016-10-19 17:00:00,2016-10-19 17:20:00)</td>\n",
       "      <td>0</td>\n",
       "      <td>36.51</td>\n",
       "    </tr>\n",
       "    <tr>\n",
       "      <th>4</th>\n",
       "      <td>1</td>\n",
       "      <td>[2016-10-20 08:00:00,2016-10-20 08:20:00)</td>\n",
       "      <td>0</td>\n",
       "      <td>41.14</td>\n",
       "    </tr>\n",
       "  </tbody>\n",
       "</table>\n",
       "</div>"
      ],
      "text/plain": [
       "   tollgate_id                                time_window  direction  volume\n",
       "0            1  [2016-10-18 08:00:00,2016-10-18 08:20:00)          0   44.99\n",
       "1            1  [2016-10-18 17:00:00,2016-10-18 17:20:00)          0   41.21\n",
       "2            1  [2016-10-19 08:00:00,2016-10-19 08:20:00)          0   44.18\n",
       "3            1  [2016-10-19 17:00:00,2016-10-19 17:20:00)          0   36.51\n",
       "4            1  [2016-10-20 08:00:00,2016-10-20 08:20:00)          0   41.14"
      ]
     },
     "execution_count": 10,
     "metadata": {},
     "output_type": "execute_result"
    }
   ],
   "source": [
    "predict2_df = pd.read_csv(\"merge_result2.csv\")\n",
    "predict2_df.head()"
   ]
  },
  {
   "cell_type": "code",
   "execution_count": 13,
   "metadata": {
    "collapsed": false
   },
   "outputs": [
    {
     "data": {
      "text/html": [
       "<div>\n",
       "<table border=\"1\" class=\"dataframe\">\n",
       "  <thead>\n",
       "    <tr style=\"text-align: right;\">\n",
       "      <th></th>\n",
       "      <th>tollgate_id</th>\n",
       "      <th>time_window</th>\n",
       "      <th>direction</th>\n",
       "      <th>volume</th>\n",
       "    </tr>\n",
       "  </thead>\n",
       "  <tbody>\n",
       "    <tr>\n",
       "      <th>0</th>\n",
       "      <td>1</td>\n",
       "      <td>[2016-10-18 08:00:00,2016-10-18 08:20:00)</td>\n",
       "      <td>0</td>\n",
       "      <td>43.59</td>\n",
       "    </tr>\n",
       "    <tr>\n",
       "      <th>1</th>\n",
       "      <td>1</td>\n",
       "      <td>[2016-10-18 08:20:00,2016-10-18 08:40:00)</td>\n",
       "      <td>0</td>\n",
       "      <td>46.63</td>\n",
       "    </tr>\n",
       "    <tr>\n",
       "      <th>2</th>\n",
       "      <td>1</td>\n",
       "      <td>[2016-10-18 08:40:00,2016-10-18 09:00:00)</td>\n",
       "      <td>0</td>\n",
       "      <td>48.11</td>\n",
       "    </tr>\n",
       "    <tr>\n",
       "      <th>3</th>\n",
       "      <td>1</td>\n",
       "      <td>[2016-10-18 09:00:00,2016-10-18 09:20:00)</td>\n",
       "      <td>0</td>\n",
       "      <td>46.69</td>\n",
       "    </tr>\n",
       "    <tr>\n",
       "      <th>4</th>\n",
       "      <td>1</td>\n",
       "      <td>[2016-10-18 09:20:00,2016-10-18 09:40:00)</td>\n",
       "      <td>0</td>\n",
       "      <td>48.21</td>\n",
       "    </tr>\n",
       "  </tbody>\n",
       "</table>\n",
       "</div>"
      ],
      "text/plain": [
       "   tollgate_id                                time_window  direction  volume\n",
       "0            1  [2016-10-18 08:00:00,2016-10-18 08:20:00)          0   43.59\n",
       "1            1  [2016-10-18 08:20:00,2016-10-18 08:40:00)          0   46.63\n",
       "2            1  [2016-10-18 08:40:00,2016-10-18 09:00:00)          0   48.11\n",
       "3            1  [2016-10-18 09:00:00,2016-10-18 09:20:00)          0   46.69\n",
       "4            1  [2016-10-18 09:20:00,2016-10-18 09:40:00)          0   48.21"
      ]
     },
     "execution_count": 13,
     "metadata": {},
     "output_type": "execute_result"
    }
   ],
   "source": [
    "predict3_df = pd.read_csv(\"volume_predict3_focus_type.csv\")\n",
    "predict3_df.head()"
   ]
  },
  {
   "cell_type": "code",
   "execution_count": 11,
   "metadata": {
    "collapsed": false
   },
   "outputs": [
    {
     "data": {
      "text/html": [
       "<div>\n",
       "<table border=\"1\" class=\"dataframe\">\n",
       "  <thead>\n",
       "    <tr style=\"text-align: right;\">\n",
       "      <th></th>\n",
       "      <th>tollgate_id</th>\n",
       "      <th>time_window</th>\n",
       "      <th>direction</th>\n",
       "      <th>volume_x</th>\n",
       "      <th>volume_y</th>\n",
       "    </tr>\n",
       "  </thead>\n",
       "  <tbody>\n",
       "    <tr>\n",
       "      <th>0</th>\n",
       "      <td>1</td>\n",
       "      <td>[2016-10-18 08:00:00,2016-10-18 08:20:00)</td>\n",
       "      <td>0</td>\n",
       "      <td>47.83</td>\n",
       "      <td>44.99</td>\n",
       "    </tr>\n",
       "    <tr>\n",
       "      <th>1</th>\n",
       "      <td>1</td>\n",
       "      <td>[2016-10-18 08:20:00,2016-10-18 08:40:00)</td>\n",
       "      <td>0</td>\n",
       "      <td>49.31</td>\n",
       "      <td>47.13</td>\n",
       "    </tr>\n",
       "    <tr>\n",
       "      <th>2</th>\n",
       "      <td>1</td>\n",
       "      <td>[2016-10-18 08:40:00,2016-10-18 09:00:00)</td>\n",
       "      <td>0</td>\n",
       "      <td>51.21</td>\n",
       "      <td>47.69</td>\n",
       "    </tr>\n",
       "    <tr>\n",
       "      <th>3</th>\n",
       "      <td>1</td>\n",
       "      <td>[2016-10-18 09:00:00,2016-10-18 09:20:00)</td>\n",
       "      <td>0</td>\n",
       "      <td>46.71</td>\n",
       "      <td>45.72</td>\n",
       "    </tr>\n",
       "    <tr>\n",
       "      <th>4</th>\n",
       "      <td>1</td>\n",
       "      <td>[2016-10-18 09:20:00,2016-10-18 09:40:00)</td>\n",
       "      <td>0</td>\n",
       "      <td>47.61</td>\n",
       "      <td>50.72</td>\n",
       "    </tr>\n",
       "  </tbody>\n",
       "</table>\n",
       "</div>"
      ],
      "text/plain": [
       "   tollgate_id                                time_window  direction  \\\n",
       "0            1  [2016-10-18 08:00:00,2016-10-18 08:20:00)          0   \n",
       "1            1  [2016-10-18 08:20:00,2016-10-18 08:40:00)          0   \n",
       "2            1  [2016-10-18 08:40:00,2016-10-18 09:00:00)          0   \n",
       "3            1  [2016-10-18 09:00:00,2016-10-18 09:20:00)          0   \n",
       "4            1  [2016-10-18 09:20:00,2016-10-18 09:40:00)          0   \n",
       "\n",
       "   volume_x  volume_y  \n",
       "0     47.83     44.99  \n",
       "1     49.31     47.13  \n",
       "2     51.21     47.69  \n",
       "3     46.71     45.72  \n",
       "4     47.61     50.72  "
      ]
     },
     "execution_count": 11,
     "metadata": {},
     "output_type": "execute_result"
    }
   ],
   "source": [
    "merge_result = pd.merge(predict1_df, predict2_df, on=[\"tollgate_id\", \"time_window\", \"direction\"])\n",
    "merge_result.head()"
   ]
  },
  {
   "cell_type": "code",
   "execution_count": 14,
   "metadata": {
    "collapsed": false
   },
   "outputs": [
    {
     "data": {
      "text/html": [
       "<div>\n",
       "<table border=\"1\" class=\"dataframe\">\n",
       "  <thead>\n",
       "    <tr style=\"text-align: right;\">\n",
       "      <th></th>\n",
       "      <th>tollgate_id</th>\n",
       "      <th>time_window</th>\n",
       "      <th>direction</th>\n",
       "      <th>volume_x</th>\n",
       "      <th>volume_y</th>\n",
       "      <th>volume</th>\n",
       "    </tr>\n",
       "  </thead>\n",
       "  <tbody>\n",
       "    <tr>\n",
       "      <th>0</th>\n",
       "      <td>1</td>\n",
       "      <td>[2016-10-18 08:00:00,2016-10-18 08:20:00)</td>\n",
       "      <td>0</td>\n",
       "      <td>47.83</td>\n",
       "      <td>44.99</td>\n",
       "      <td>43.59</td>\n",
       "    </tr>\n",
       "    <tr>\n",
       "      <th>1</th>\n",
       "      <td>1</td>\n",
       "      <td>[2016-10-18 08:20:00,2016-10-18 08:40:00)</td>\n",
       "      <td>0</td>\n",
       "      <td>49.31</td>\n",
       "      <td>47.13</td>\n",
       "      <td>46.63</td>\n",
       "    </tr>\n",
       "    <tr>\n",
       "      <th>2</th>\n",
       "      <td>1</td>\n",
       "      <td>[2016-10-18 08:40:00,2016-10-18 09:00:00)</td>\n",
       "      <td>0</td>\n",
       "      <td>51.21</td>\n",
       "      <td>47.69</td>\n",
       "      <td>48.11</td>\n",
       "    </tr>\n",
       "    <tr>\n",
       "      <th>3</th>\n",
       "      <td>1</td>\n",
       "      <td>[2016-10-18 09:00:00,2016-10-18 09:20:00)</td>\n",
       "      <td>0</td>\n",
       "      <td>46.71</td>\n",
       "      <td>45.72</td>\n",
       "      <td>46.69</td>\n",
       "    </tr>\n",
       "    <tr>\n",
       "      <th>4</th>\n",
       "      <td>1</td>\n",
       "      <td>[2016-10-18 09:20:00,2016-10-18 09:40:00)</td>\n",
       "      <td>0</td>\n",
       "      <td>47.61</td>\n",
       "      <td>50.72</td>\n",
       "      <td>48.21</td>\n",
       "    </tr>\n",
       "  </tbody>\n",
       "</table>\n",
       "</div>"
      ],
      "text/plain": [
       "   tollgate_id                                time_window  direction  \\\n",
       "0            1  [2016-10-18 08:00:00,2016-10-18 08:20:00)          0   \n",
       "1            1  [2016-10-18 08:20:00,2016-10-18 08:40:00)          0   \n",
       "2            1  [2016-10-18 08:40:00,2016-10-18 09:00:00)          0   \n",
       "3            1  [2016-10-18 09:00:00,2016-10-18 09:20:00)          0   \n",
       "4            1  [2016-10-18 09:20:00,2016-10-18 09:40:00)          0   \n",
       "\n",
       "   volume_x  volume_y  volume  \n",
       "0     47.83     44.99   43.59  \n",
       "1     49.31     47.13   46.63  \n",
       "2     51.21     47.69   48.11  \n",
       "3     46.71     45.72   46.69  \n",
       "4     47.61     50.72   48.21  "
      ]
     },
     "execution_count": 14,
     "metadata": {},
     "output_type": "execute_result"
    }
   ],
   "source": [
    "merge_result = pd.merge(merge_result, predict3_df, on=[\"tollgate_id\", \"time_window\", \"direction\"])\n",
    "merge_result.head()"
   ]
  },
  {
   "cell_type": "code",
   "execution_count": 15,
   "metadata": {
    "collapsed": true
   },
   "outputs": [],
   "source": [
    "merge_result.to_csv(\"merge_result.csv\")"
   ]
  },
  {
   "cell_type": "code",
   "execution_count": null,
   "metadata": {
    "collapsed": true
   },
   "outputs": [],
   "source": []
  }
 ],
 "metadata": {
  "anaconda-cloud": {},
  "kernelspec": {
   "display_name": "Python [conda root]",
   "language": "python",
   "name": "conda-root-py"
  },
  "language_info": {
   "codemirror_mode": {
    "name": "ipython",
    "version": 2
   },
   "file_extension": ".py",
   "mimetype": "text/x-python",
   "name": "python",
   "nbconvert_exporter": "python",
   "pygments_lexer": "ipython2",
   "version": "2.7.12"
  }
 },
 "nbformat": 4,
 "nbformat_minor": 1
}
